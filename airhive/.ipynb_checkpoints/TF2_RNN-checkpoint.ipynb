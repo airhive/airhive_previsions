{
 "cells": [
  {
   "cell_type": "markdown",
   "metadata": {},
   "source": [
    "# MODELLO PER PM\n",
    "I modelli attuali hanno un mse di 144 in PM2.5 e RMSE 21.9 in PM10 (http://www.ec4macs.eu/content/report/EC4MACS_Publications/MR_Final%20in%20pdf/Chimere_Methodologies_Final.pdf) usano CHIMERE e NINFA\n",
    "\n",
    "Il modello coi sensori diffusi non risente del downwash tra le case, capisce i microfenomeni usando la statistica."
   ]
  },
  {
   "cell_type": "code",
   "execution_count": 112,
   "metadata": {},
   "outputs": [],
   "source": [
    "import datetime\n",
    "import warnings\n",
    "\n",
    "import tensorflow as tf\n",
    "import pandas as pd\n",
    "from pandas.plotting import autocorrelation_plot\n",
    "import numpy as np\n",
    "import matplotlib.pyplot as plt\n",
    "import matplotlib.style as style\n",
    "import seaborn as sns\n",
    "import scipy.stats as measures"
   ]
  },
  {
   "cell_type": "code",
   "execution_count": 113,
   "metadata": {},
   "outputs": [],
   "source": [
    "tf.reset_default_graph()"
   ]
  },
  {
   "cell_type": "code",
   "execution_count": 114,
   "metadata": {},
   "outputs": [],
   "source": [
    "# Nasconde i warning errati di pandas ma anche tutti gli altri, attenzione agli aggiornamenti di tensorflow\n",
    "warnings.simplefilter(\"ignore\")"
   ]
  },
  {
   "cell_type": "code",
   "execution_count": 115,
   "metadata": {},
   "outputs": [],
   "source": [
    "style.use('bmh')\n",
    "sns.set_style(\"ticks\")\n",
    "sns.set_style(\"darkgrid\")\n",
    "cmap = sns.diverging_palette(220, 20, as_cmap = True)"
   ]
  },
  {
   "cell_type": "code",
   "execution_count": 116,
   "metadata": {},
   "outputs": [],
   "source": [
    "df_pm = pd.read_json(\"dati_milano/pm10_11_18.json\")\n",
    "df_temp = pd.read_json(\"dati_milano/temperature_11_18.json\")\n",
    "df_umi = pd.read_json(\"dati_milano/umidita_11_18.json\")\n",
    "df_prec = pd.read_json(\"dati_milano/precipitazioni_11_18.json\")"
   ]
  },
  {
   "cell_type": "code",
   "execution_count": 117,
   "metadata": {},
   "outputs": [],
   "source": [
    "#df = df_pm.shift(1)\n",
    "df = df_pm\n",
    "df[\"temp\"] = df_temp\n",
    "df[\"umi\"] = df_umi\n",
    "df[\"prec\"] = df_prec\n",
    "#df[\"weekend\"] = (df.index.weekday > 4) * 1\n",
    "df[\"weekday\"] = df.index.weekday\n",
    "df[\"mese\"] = df.index.month"
   ]
  },
  {
   "cell_type": "code",
   "execution_count": 118,
   "metadata": {},
   "outputs": [],
   "source": [
    "df = df.dropna()"
   ]
  },
  {
   "cell_type": "code",
   "execution_count": 119,
   "metadata": {},
   "outputs": [
    {
     "data": {
      "text/html": [
       "<div>\n",
       "<style scoped>\n",
       "    .dataframe tbody tr th:only-of-type {\n",
       "        vertical-align: middle;\n",
       "    }\n",
       "\n",
       "    .dataframe tbody tr th {\n",
       "        vertical-align: top;\n",
       "    }\n",
       "\n",
       "    .dataframe thead th {\n",
       "        text-align: right;\n",
       "    }\n",
       "</style>\n",
       "<table border=\"1\" class=\"dataframe\">\n",
       "  <thead>\n",
       "    <tr style=\"text-align: right;\">\n",
       "      <th></th>\n",
       "      <th>pm10</th>\n",
       "      <th>temp</th>\n",
       "      <th>umi</th>\n",
       "      <th>prec</th>\n",
       "      <th>weekday</th>\n",
       "      <th>mese</th>\n",
       "    </tr>\n",
       "  </thead>\n",
       "  <tbody>\n",
       "    <tr>\n",
       "      <th>2012-01-12</th>\n",
       "      <td>106</td>\n",
       "      <td>4.5</td>\n",
       "      <td>77.1</td>\n",
       "      <td>0.0</td>\n",
       "      <td>3</td>\n",
       "      <td>1</td>\n",
       "    </tr>\n",
       "    <tr>\n",
       "      <th>2012-01-13</th>\n",
       "      <td>88</td>\n",
       "      <td>4.9</td>\n",
       "      <td>78.4</td>\n",
       "      <td>0.0</td>\n",
       "      <td>4</td>\n",
       "      <td>1</td>\n",
       "    </tr>\n",
       "    <tr>\n",
       "      <th>2012-01-14</th>\n",
       "      <td>96</td>\n",
       "      <td>0.2</td>\n",
       "      <td>91.6</td>\n",
       "      <td>0.2</td>\n",
       "      <td>5</td>\n",
       "      <td>1</td>\n",
       "    </tr>\n",
       "    <tr>\n",
       "      <th>2012-01-15</th>\n",
       "      <td>87</td>\n",
       "      <td>-2.6</td>\n",
       "      <td>95.1</td>\n",
       "      <td>0.2</td>\n",
       "      <td>6</td>\n",
       "      <td>1</td>\n",
       "    </tr>\n",
       "    <tr>\n",
       "      <th>2012-01-16</th>\n",
       "      <td>97</td>\n",
       "      <td>-1.6</td>\n",
       "      <td>88.7</td>\n",
       "      <td>0.0</td>\n",
       "      <td>0</td>\n",
       "      <td>1</td>\n",
       "    </tr>\n",
       "  </tbody>\n",
       "</table>\n",
       "</div>"
      ],
      "text/plain": [
       "            pm10  temp   umi  prec  weekday  mese\n",
       "2012-01-12   106   4.5  77.1   0.0        3     1\n",
       "2012-01-13    88   4.9  78.4   0.0        4     1\n",
       "2012-01-14    96   0.2  91.6   0.2        5     1\n",
       "2012-01-15    87  -2.6  95.1   0.2        6     1\n",
       "2012-01-16    97  -1.6  88.7   0.0        0     1"
      ]
     },
     "execution_count": 119,
     "metadata": {},
     "output_type": "execute_result"
    }
   ],
   "source": [
    "df.head()"
   ]
  },
  {
   "cell_type": "code",
   "execution_count": 120,
   "metadata": {},
   "outputs": [
    {
     "data": {
      "text/html": [
       "<div>\n",
       "<style scoped>\n",
       "    .dataframe tbody tr th:only-of-type {\n",
       "        vertical-align: middle;\n",
       "    }\n",
       "\n",
       "    .dataframe tbody tr th {\n",
       "        vertical-align: top;\n",
       "    }\n",
       "\n",
       "    .dataframe thead th {\n",
       "        text-align: right;\n",
       "    }\n",
       "</style>\n",
       "<table border=\"1\" class=\"dataframe\">\n",
       "  <thead>\n",
       "    <tr style=\"text-align: right;\">\n",
       "      <th></th>\n",
       "      <th>count</th>\n",
       "      <th>mean</th>\n",
       "      <th>std</th>\n",
       "      <th>min</th>\n",
       "      <th>25%</th>\n",
       "      <th>50%</th>\n",
       "      <th>75%</th>\n",
       "      <th>max</th>\n",
       "    </tr>\n",
       "  </thead>\n",
       "  <tbody>\n",
       "    <tr>\n",
       "      <th>pm10</th>\n",
       "      <td>2469.0</td>\n",
       "      <td>38.326043</td>\n",
       "      <td>24.450977</td>\n",
       "      <td>4.0</td>\n",
       "      <td>21.0</td>\n",
       "      <td>31.0</td>\n",
       "      <td>49.0</td>\n",
       "      <td>171.0</td>\n",
       "    </tr>\n",
       "    <tr>\n",
       "      <th>temp</th>\n",
       "      <td>2469.0</td>\n",
       "      <td>14.807250</td>\n",
       "      <td>8.246669</td>\n",
       "      <td>-6.6</td>\n",
       "      <td>7.7</td>\n",
       "      <td>15.0</td>\n",
       "      <td>21.7</td>\n",
       "      <td>32.1</td>\n",
       "    </tr>\n",
       "    <tr>\n",
       "      <th>umi</th>\n",
       "      <td>2469.0</td>\n",
       "      <td>69.719320</td>\n",
       "      <td>15.287999</td>\n",
       "      <td>15.7</td>\n",
       "      <td>58.0</td>\n",
       "      <td>69.8</td>\n",
       "      <td>81.8</td>\n",
       "      <td>100.0</td>\n",
       "    </tr>\n",
       "    <tr>\n",
       "      <th>prec</th>\n",
       "      <td>2469.0</td>\n",
       "      <td>2.971081</td>\n",
       "      <td>8.047349</td>\n",
       "      <td>0.0</td>\n",
       "      <td>0.0</td>\n",
       "      <td>0.0</td>\n",
       "      <td>1.0</td>\n",
       "      <td>119.8</td>\n",
       "    </tr>\n",
       "    <tr>\n",
       "      <th>weekday</th>\n",
       "      <td>2469.0</td>\n",
       "      <td>3.001215</td>\n",
       "      <td>2.000506</td>\n",
       "      <td>0.0</td>\n",
       "      <td>1.0</td>\n",
       "      <td>3.0</td>\n",
       "      <td>5.0</td>\n",
       "      <td>6.0</td>\n",
       "    </tr>\n",
       "    <tr>\n",
       "      <th>mese</th>\n",
       "      <td>2469.0</td>\n",
       "      <td>6.428514</td>\n",
       "      <td>3.395859</td>\n",
       "      <td>1.0</td>\n",
       "      <td>3.0</td>\n",
       "      <td>6.0</td>\n",
       "      <td>9.0</td>\n",
       "      <td>12.0</td>\n",
       "    </tr>\n",
       "  </tbody>\n",
       "</table>\n",
       "</div>"
      ],
      "text/plain": [
       "          count       mean        std   min   25%   50%   75%    max\n",
       "pm10     2469.0  38.326043  24.450977   4.0  21.0  31.0  49.0  171.0\n",
       "temp     2469.0  14.807250   8.246669  -6.6   7.7  15.0  21.7   32.1\n",
       "umi      2469.0  69.719320  15.287999  15.7  58.0  69.8  81.8  100.0\n",
       "prec     2469.0   2.971081   8.047349   0.0   0.0   0.0   1.0  119.8\n",
       "weekday  2469.0   3.001215   2.000506   0.0   1.0   3.0   5.0    6.0\n",
       "mese     2469.0   6.428514   3.395859   1.0   3.0   6.0   9.0   12.0"
      ]
     },
     "execution_count": 120,
     "metadata": {},
     "output_type": "execute_result"
    }
   ],
   "source": [
    "df.describe().T"
   ]
  },
  {
   "cell_type": "markdown",
   "metadata": {},
   "source": [
    "## Correlazioni:\n",
    "Le correlazioni rivelano una relazione abbastanza forte tra i pm10 e la temperatura e l'umidità.\n",
    "Sembra inoltre essere più rilevante il **_numero di giorni senza pioggia_** rispetto all'effettivo ammontare della pioggia."
   ]
  },
  {
   "cell_type": "code",
   "execution_count": 121,
   "metadata": {},
   "outputs": [
    {
     "data": {
      "text/html": [
       "<div>\n",
       "<style scoped>\n",
       "    .dataframe tbody tr th:only-of-type {\n",
       "        vertical-align: middle;\n",
       "    }\n",
       "\n",
       "    .dataframe tbody tr th {\n",
       "        vertical-align: top;\n",
       "    }\n",
       "\n",
       "    .dataframe thead th {\n",
       "        text-align: right;\n",
       "    }\n",
       "</style>\n",
       "<table border=\"1\" class=\"dataframe\">\n",
       "  <thead>\n",
       "    <tr style=\"text-align: right;\">\n",
       "      <th></th>\n",
       "      <th>pm10</th>\n",
       "      <th>temp</th>\n",
       "      <th>umi</th>\n",
       "      <th>prec</th>\n",
       "      <th>weekday</th>\n",
       "      <th>mese</th>\n",
       "    </tr>\n",
       "  </thead>\n",
       "  <tbody>\n",
       "    <tr>\n",
       "      <th>pm10</th>\n",
       "      <td>1.000000</td>\n",
       "      <td>-0.561905</td>\n",
       "      <td>0.371262</td>\n",
       "      <td>-0.183460</td>\n",
       "      <td>-0.002510</td>\n",
       "      <td>-0.020510</td>\n",
       "    </tr>\n",
       "    <tr>\n",
       "      <th>temp</th>\n",
       "      <td>-0.561905</td>\n",
       "      <td>1.000000</td>\n",
       "      <td>-0.511789</td>\n",
       "      <td>-0.067390</td>\n",
       "      <td>0.005361</td>\n",
       "      <td>0.205313</td>\n",
       "    </tr>\n",
       "    <tr>\n",
       "      <th>umi</th>\n",
       "      <td>0.371262</td>\n",
       "      <td>-0.511789</td>\n",
       "      <td>1.000000</td>\n",
       "      <td>0.347604</td>\n",
       "      <td>0.026695</td>\n",
       "      <td>0.159614</td>\n",
       "    </tr>\n",
       "    <tr>\n",
       "      <th>prec</th>\n",
       "      <td>-0.183460</td>\n",
       "      <td>-0.067390</td>\n",
       "      <td>0.347604</td>\n",
       "      <td>1.000000</td>\n",
       "      <td>0.027033</td>\n",
       "      <td>-0.004066</td>\n",
       "    </tr>\n",
       "    <tr>\n",
       "      <th>weekday</th>\n",
       "      <td>-0.002510</td>\n",
       "      <td>0.005361</td>\n",
       "      <td>0.026695</td>\n",
       "      <td>0.027033</td>\n",
       "      <td>1.000000</td>\n",
       "      <td>0.000579</td>\n",
       "    </tr>\n",
       "    <tr>\n",
       "      <th>mese</th>\n",
       "      <td>-0.020510</td>\n",
       "      <td>0.205313</td>\n",
       "      <td>0.159614</td>\n",
       "      <td>-0.004066</td>\n",
       "      <td>0.000579</td>\n",
       "      <td>1.000000</td>\n",
       "    </tr>\n",
       "  </tbody>\n",
       "</table>\n",
       "</div>"
      ],
      "text/plain": [
       "             pm10      temp       umi      prec   weekday      mese\n",
       "pm10     1.000000 -0.561905  0.371262 -0.183460 -0.002510 -0.020510\n",
       "temp    -0.561905  1.000000 -0.511789 -0.067390  0.005361  0.205313\n",
       "umi      0.371262 -0.511789  1.000000  0.347604  0.026695  0.159614\n",
       "prec    -0.183460 -0.067390  0.347604  1.000000  0.027033 -0.004066\n",
       "weekday -0.002510  0.005361  0.026695  0.027033  1.000000  0.000579\n",
       "mese    -0.020510  0.205313  0.159614 -0.004066  0.000579  1.000000"
      ]
     },
     "execution_count": 121,
     "metadata": {},
     "output_type": "execute_result"
    }
   ],
   "source": [
    "df.corr()"
   ]
  },
  {
   "cell_type": "code",
   "execution_count": 122,
   "metadata": {},
   "outputs": [
    {
     "data": {
      "text/plain": [
       "<matplotlib.axes._subplots.AxesSubplot at 0x7fe6e5aae6a0>"
      ]
     },
     "execution_count": 122,
     "metadata": {},
     "output_type": "execute_result"
    },
    {
     "data": {
      "image/png": "[encoded data removed]",
      "text/plain": [
       "<Figure size 432x288 with 2 Axes>"
      ]
     },
     "metadata": {},
     "output_type": "display_data"
    }
   ],
   "source": [
    "sns.heatmap(df.corr(), cmap = cmap, vmax = .7, center = 0,\n",
    "            square = True, linewidths = .1, cbar_kws = {\"shrink\": .5})"
   ]
  },
  {
   "cell_type": "markdown",
   "metadata": {},
   "source": [
    "Proof che la distribuzione dei valori di pm10 non è random, ed è possibile creare un modello valido:"
   ]
  },
  {
   "cell_type": "code",
   "execution_count": 123,
   "metadata": {},
   "outputs": [
    {
     "data": {
      "text/plain": [
       "<matplotlib.axes._subplots.AxesSubplot at 0x7fe618cc41d0>"
      ]
     },
     "execution_count": 123,
     "metadata": {},
     "output_type": "execute_result"
    },
    {
     "data": {
      "image/png": "[encoded data removed]",
      "text/plain": [
       "<Figure size 432x288 with 1 Axes>"
      ]
     },
     "metadata": {},
     "output_type": "display_data"
    }
   ],
   "source": [
    "autocorrelation_plot(df.pm10)"
   ]
  },
  {
   "cell_type": "code",
   "execution_count": 124,
   "metadata": {},
   "outputs": [
    {
     "data": {
      "text/plain": [
       "<matplotlib.axes._subplots.AxesSubplot at 0x7fe612a4ab70>"
      ]
     },
     "execution_count": 124,
     "metadata": {},
     "output_type": "execute_result"
    },
    {
     "data": {
      "image/png": "[encoded data removed]",
      "text/plain": [
       "<Figure size 432x288 with 1 Axes>"
      ]
     },
     "metadata": {},
     "output_type": "display_data"
    }
   ],
   "source": [
    "autocorrelation_plot(np.random.randint(df.pm10.max(), size=df.pm10.size))"
   ]
  },
  {
   "cell_type": "markdown",
   "metadata": {},
   "source": [
    "## Dati ingegnerizzati"
   ]
  },
  {
   "cell_type": "markdown",
   "metadata": {},
   "source": [
    "### Giorni senza pioggia"
   ]
  },
  {
   "cell_type": "code",
   "execution_count": 125,
   "metadata": {},
   "outputs": [],
   "source": [
    "df[\"no_pioggia\"] = df.prec\n",
    "df.no_pioggia.loc[df.no_pioggia != 0] = -1\n",
    "df.no_pioggia.loc[df.no_pioggia == 0] = 1\n",
    "df.no_pioggia.loc[df.no_pioggia == -1] = 0"
   ]
  },
  {
   "cell_type": "code",
   "execution_count": 126,
   "metadata": {},
   "outputs": [],
   "source": [
    "#Sottraggo al vettore con somma cumulata i giorni con valori ripetuti\n",
    "somma = df.no_pioggia.cumsum()\n",
    "correttore = somma.copy()\n",
    "correttore.loc[~somma.duplicated()] = np.nan\n",
    "correttore.iloc[0] = 0\n",
    "correttore = correttore.fillna(method = \"ffill\")\n",
    "df.no_pioggia = (somma - correttore).astype(int)"
   ]
  },
  {
   "cell_type": "code",
   "execution_count": 127,
   "metadata": {},
   "outputs": [
    {
     "data": {
      "text/html": [
       "<div>\n",
       "<style scoped>\n",
       "    .dataframe tbody tr th:only-of-type {\n",
       "        vertical-align: middle;\n",
       "    }\n",
       "\n",
       "    .dataframe tbody tr th {\n",
       "        vertical-align: top;\n",
       "    }\n",
       "\n",
       "    .dataframe thead th {\n",
       "        text-align: right;\n",
       "    }\n",
       "</style>\n",
       "<table border=\"1\" class=\"dataframe\">\n",
       "  <thead>\n",
       "    <tr style=\"text-align: right;\">\n",
       "      <th></th>\n",
       "      <th>pm10</th>\n",
       "      <th>temp</th>\n",
       "      <th>umi</th>\n",
       "      <th>prec</th>\n",
       "      <th>weekday</th>\n",
       "      <th>mese</th>\n",
       "      <th>no_pioggia</th>\n",
       "    </tr>\n",
       "  </thead>\n",
       "  <tbody>\n",
       "    <tr>\n",
       "      <th>2012-01-12</th>\n",
       "      <td>106</td>\n",
       "      <td>4.5</td>\n",
       "      <td>77.1</td>\n",
       "      <td>0.0</td>\n",
       "      <td>3</td>\n",
       "      <td>1</td>\n",
       "      <td>1</td>\n",
       "    </tr>\n",
       "    <tr>\n",
       "      <th>2012-01-13</th>\n",
       "      <td>88</td>\n",
       "      <td>4.9</td>\n",
       "      <td>78.4</td>\n",
       "      <td>0.0</td>\n",
       "      <td>4</td>\n",
       "      <td>1</td>\n",
       "      <td>2</td>\n",
       "    </tr>\n",
       "    <tr>\n",
       "      <th>2012-01-14</th>\n",
       "      <td>96</td>\n",
       "      <td>0.2</td>\n",
       "      <td>91.6</td>\n",
       "      <td>0.2</td>\n",
       "      <td>5</td>\n",
       "      <td>1</td>\n",
       "      <td>0</td>\n",
       "    </tr>\n",
       "    <tr>\n",
       "      <th>2012-01-15</th>\n",
       "      <td>87</td>\n",
       "      <td>-2.6</td>\n",
       "      <td>95.1</td>\n",
       "      <td>0.2</td>\n",
       "      <td>6</td>\n",
       "      <td>1</td>\n",
       "      <td>0</td>\n",
       "    </tr>\n",
       "    <tr>\n",
       "      <th>2012-01-16</th>\n",
       "      <td>97</td>\n",
       "      <td>-1.6</td>\n",
       "      <td>88.7</td>\n",
       "      <td>0.0</td>\n",
       "      <td>0</td>\n",
       "      <td>1</td>\n",
       "      <td>1</td>\n",
       "    </tr>\n",
       "  </tbody>\n",
       "</table>\n",
       "</div>"
      ],
      "text/plain": [
       "            pm10  temp   umi  prec  weekday  mese  no_pioggia\n",
       "2012-01-12   106   4.5  77.1   0.0        3     1           1\n",
       "2012-01-13    88   4.9  78.4   0.0        4     1           2\n",
       "2012-01-14    96   0.2  91.6   0.2        5     1           0\n",
       "2012-01-15    87  -2.6  95.1   0.2        6     1           0\n",
       "2012-01-16    97  -1.6  88.7   0.0        0     1           1"
      ]
     },
     "execution_count": 127,
     "metadata": {},
     "output_type": "execute_result"
    }
   ],
   "source": [
    "df.head()"
   ]
  },
  {
   "cell_type": "code",
   "execution_count": 128,
   "metadata": {},
   "outputs": [
    {
     "data": {
      "text/html": [
       "<div>\n",
       "<style scoped>\n",
       "    .dataframe tbody tr th:only-of-type {\n",
       "        vertical-align: middle;\n",
       "    }\n",
       "\n",
       "    .dataframe tbody tr th {\n",
       "        vertical-align: top;\n",
       "    }\n",
       "\n",
       "    .dataframe thead th {\n",
       "        text-align: right;\n",
       "    }\n",
       "</style>\n",
       "<table border=\"1\" class=\"dataframe\">\n",
       "  <thead>\n",
       "    <tr style=\"text-align: right;\">\n",
       "      <th></th>\n",
       "      <th>pm10</th>\n",
       "      <th>temp</th>\n",
       "      <th>umi</th>\n",
       "      <th>prec</th>\n",
       "      <th>weekday</th>\n",
       "      <th>mese</th>\n",
       "      <th>no_pioggia</th>\n",
       "    </tr>\n",
       "  </thead>\n",
       "  <tbody>\n",
       "    <tr>\n",
       "      <th>pm10</th>\n",
       "      <td>1.000000</td>\n",
       "      <td>-0.561905</td>\n",
       "      <td>0.371262</td>\n",
       "      <td>-0.183460</td>\n",
       "      <td>-0.002510</td>\n",
       "      <td>-0.020510</td>\n",
       "      <td>0.099256</td>\n",
       "    </tr>\n",
       "    <tr>\n",
       "      <th>temp</th>\n",
       "      <td>-0.561905</td>\n",
       "      <td>1.000000</td>\n",
       "      <td>-0.511789</td>\n",
       "      <td>-0.067390</td>\n",
       "      <td>0.005361</td>\n",
       "      <td>0.205313</td>\n",
       "      <td>0.279184</td>\n",
       "    </tr>\n",
       "    <tr>\n",
       "      <th>umi</th>\n",
       "      <td>0.371262</td>\n",
       "      <td>-0.511789</td>\n",
       "      <td>1.000000</td>\n",
       "      <td>0.347604</td>\n",
       "      <td>0.026695</td>\n",
       "      <td>0.159614</td>\n",
       "      <td>-0.428437</td>\n",
       "    </tr>\n",
       "    <tr>\n",
       "      <th>prec</th>\n",
       "      <td>-0.183460</td>\n",
       "      <td>-0.067390</td>\n",
       "      <td>0.347604</td>\n",
       "      <td>1.000000</td>\n",
       "      <td>0.027033</td>\n",
       "      <td>-0.004066</td>\n",
       "      <td>-0.257305</td>\n",
       "    </tr>\n",
       "    <tr>\n",
       "      <th>weekday</th>\n",
       "      <td>-0.002510</td>\n",
       "      <td>0.005361</td>\n",
       "      <td>0.026695</td>\n",
       "      <td>0.027033</td>\n",
       "      <td>1.000000</td>\n",
       "      <td>0.000579</td>\n",
       "      <td>0.011881</td>\n",
       "    </tr>\n",
       "    <tr>\n",
       "      <th>mese</th>\n",
       "      <td>-0.020510</td>\n",
       "      <td>0.205313</td>\n",
       "      <td>0.159614</td>\n",
       "      <td>-0.004066</td>\n",
       "      <td>0.000579</td>\n",
       "      <td>1.000000</td>\n",
       "      <td>-0.046716</td>\n",
       "    </tr>\n",
       "    <tr>\n",
       "      <th>no_pioggia</th>\n",
       "      <td>0.099256</td>\n",
       "      <td>0.279184</td>\n",
       "      <td>-0.428437</td>\n",
       "      <td>-0.257305</td>\n",
       "      <td>0.011881</td>\n",
       "      <td>-0.046716</td>\n",
       "      <td>1.000000</td>\n",
       "    </tr>\n",
       "  </tbody>\n",
       "</table>\n",
       "</div>"
      ],
      "text/plain": [
       "                pm10      temp       umi      prec   weekday      mese  \\\n",
       "pm10        1.000000 -0.561905  0.371262 -0.183460 -0.002510 -0.020510   \n",
       "temp       -0.561905  1.000000 -0.511789 -0.067390  0.005361  0.205313   \n",
       "umi         0.371262 -0.511789  1.000000  0.347604  0.026695  0.159614   \n",
       "prec       -0.183460 -0.067390  0.347604  1.000000  0.027033 -0.004066   \n",
       "weekday    -0.002510  0.005361  0.026695  0.027033  1.000000  0.000579   \n",
       "mese       -0.020510  0.205313  0.159614 -0.004066  0.000579  1.000000   \n",
       "no_pioggia  0.099256  0.279184 -0.428437 -0.257305  0.011881 -0.046716   \n",
       "\n",
       "            no_pioggia  \n",
       "pm10          0.099256  \n",
       "temp          0.279184  \n",
       "umi          -0.428437  \n",
       "prec         -0.257305  \n",
       "weekday       0.011881  \n",
       "mese         -0.046716  \n",
       "no_pioggia    1.000000  "
      ]
     },
     "execution_count": 128,
     "metadata": {},
     "output_type": "execute_result"
    }
   ],
   "source": [
    "df.corr()"
   ]
  },
  {
   "cell_type": "code",
   "execution_count": 129,
   "metadata": {},
   "outputs": [
    {
     "data": {
      "text/plain": [
       "<matplotlib.axes._subplots.AxesSubplot at 0x7fe612b26a58>"
      ]
     },
     "execution_count": 129,
     "metadata": {},
     "output_type": "execute_result"
    },
    {
     "data": {
      "image/png": "[encoded data removed]",
      "text/plain": [
       "<Figure size 432x288 with 2 Axes>"
      ]
     },
     "metadata": {},
     "output_type": "display_data"
    }
   ],
   "source": [
    "sns.heatmap(df.corr(), cmap = cmap, vmax = .7, center = 0,\n",
    "            square = True, linewidths = .1, cbar_kws = {\"shrink\": .5})"
   ]
  },
  {
   "cell_type": "markdown",
   "metadata": {},
   "source": [
    "## Studio valori notevoli"
   ]
  },
  {
   "cell_type": "code",
   "execution_count": 130,
   "metadata": {},
   "outputs": [
    {
     "data": {
      "text/plain": [
       "'Massimo PM10: 171 il 2017-01-31 00:00:00'"
      ]
     },
     "execution_count": 130,
     "metadata": {},
     "output_type": "execute_result"
    }
   ],
   "source": [
    "f\"Massimo PM10: {df.pm10.max()} il {df.pm10.idxmax()}\""
   ]
  },
  {
   "cell_type": "code",
   "execution_count": 131,
   "metadata": {},
   "outputs": [
    {
     "data": {
      "image/png": "[encoded data removed]",
      "text/plain": [
       "<Figure size 450.25x360 with 1 Axes>"
      ]
     },
     "metadata": {},
     "output_type": "display_data"
    }
   ],
   "source": [
    "palette = sns.color_palette(\"PuBuGn_d\", 5)\n",
    "\n",
    "g = sns.relplot(kind=\"line\",\n",
    "                palette = palette,\n",
    "                data = \n",
    "                df.loc[\n",
    "                    df.pm10.idxmax() - datetime.timedelta(days=10) : \n",
    "                    df.pm10.idxmax() + datetime.timedelta(days=10)\n",
    "                ].drop([\"weekday\", \"mese\"], axis = 1)\n",
    "               )\n",
    "g.fig.autofmt_xdate()"
   ]
  },
  {
   "cell_type": "code",
   "execution_count": 132,
   "metadata": {},
   "outputs": [
    {
     "data": {
      "text/plain": [
       "'Minimo PM10: 4 il 2012-07-22 00:00:00'"
      ]
     },
     "execution_count": 132,
     "metadata": {},
     "output_type": "execute_result"
    }
   ],
   "source": [
    "f\"Minimo PM10: {df.pm10.min()} il {df.pm10.idxmin()}\""
   ]
  },
  {
   "cell_type": "code",
   "execution_count": 133,
   "metadata": {},
   "outputs": [
    {
     "data": {
      "image/png": "[encoded data removed]",
      "text/plain": [
       "<Figure size 450.25x360 with 1 Axes>"
      ]
     },
     "metadata": {},
     "output_type": "display_data"
    }
   ],
   "source": [
    "g = sns.relplot(kind=\"line\",\n",
    "                palette = palette,\n",
    "                data = \n",
    "                df.loc[\n",
    "                    df.pm10.idxmin() - datetime.timedelta(days=10) : \n",
    "                    df.pm10.idxmin() + datetime.timedelta(days=10)\n",
    "                ].drop([\"weekday\", \"mese\"], axis = 1)\n",
    "               )\n",
    "g.fig.autofmt_xdate()"
   ]
  },
  {
   "cell_type": "code",
   "execution_count": 134,
   "metadata": {},
   "outputs": [
    {
     "data": {
      "text/plain": [
       "'Il periodo più lungo senza pioggia è finito il 2015-07-24 00:00:00, 31 giorni'"
      ]
     },
     "execution_count": 134,
     "metadata": {},
     "output_type": "execute_result"
    }
   ],
   "source": [
    "f\"Il periodo più lungo senza pioggia è finito il {df.no_pioggia.idxmax()}, {df.no_pioggia.max()} giorni\""
   ]
  },
  {
   "cell_type": "code",
   "execution_count": 135,
   "metadata": {},
   "outputs": [
    {
     "data": {
      "image/png": "[encoded data removed]",
      "text/plain": [
       "<Figure size 450.25x360 with 1 Axes>"
      ]
     },
     "metadata": {},
     "output_type": "display_data"
    }
   ],
   "source": [
    "g = sns.relplot(kind=\"line\",\n",
    "                palette = palette,\n",
    "                data = \n",
    "                df.loc[\n",
    "                        df.no_pioggia.idxmax() - datetime.timedelta(days=10) : \n",
    "                        df.no_pioggia.idxmax() + datetime.timedelta(days=10)\n",
    "                    ].drop([\"weekday\", \"mese\"], axis = 1)\n",
    "               )\n",
    "g.fig.autofmt_xdate()"
   ]
  },
  {
   "cell_type": "markdown",
   "metadata": {},
   "source": [
    "## Normalizzazioni"
   ]
  },
  {
   "cell_type": "markdown",
   "metadata": {},
   "source": [
    "### Media mobile a mov_av giorni\n",
    "Il modello è meno volatile senza intaccare i test, il risultato sarà meno preciso nella predizione del valore esatto ma prevederà meglio il trend."
   ]
  },
  {
   "cell_type": "code",
   "execution_count": 136,
   "metadata": {},
   "outputs": [],
   "source": [
    "#Pandas risponde con un warning sbagliato ATTENZIONE\n",
    "mov_av = 2\n",
    "df[\"pm10\"] = df[\"pm10\"].rolling(mov_av).mean()\n",
    "df = df.iloc[mov_av - 1:]\n",
    "df[\"pm10\"] = df[\"pm10\"].astype(int)"
   ]
  },
  {
   "cell_type": "code",
   "execution_count": 137,
   "metadata": {},
   "outputs": [
    {
     "data": {
      "text/plain": [
       "119.8"
      ]
     },
     "execution_count": 137,
     "metadata": {},
     "output_type": "execute_result"
    }
   ],
   "source": [
    "df.prec.max()"
   ]
  },
  {
   "cell_type": "code",
   "execution_count": 138,
   "metadata": {},
   "outputs": [
    {
     "data": {
      "text/plain": [
       "-6.6"
      ]
     },
     "execution_count": 138,
     "metadata": {},
     "output_type": "execute_result"
    }
   ],
   "source": [
    "df.temp.min()"
   ]
  },
  {
   "cell_type": "code",
   "execution_count": 139,
   "metadata": {},
   "outputs": [
    {
     "data": {
      "text/plain": [
       "32.1"
      ]
     },
     "execution_count": 139,
     "metadata": {},
     "output_type": "execute_result"
    }
   ],
   "source": [
    "df.temp.max()"
   ]
  },
  {
   "cell_type": "markdown",
   "metadata": {},
   "source": [
    "### Normalizzo tra 0 e 100:\n",
    "Ma solo precipitazioni, temperatura e umidità. I PM sono circa già nel range."
   ]
  },
  {
   "cell_type": "code",
   "execution_count": 140,
   "metadata": {},
   "outputs": [],
   "source": [
    "df.prec = (100 * (df.prec / df.prec.max())).astype(int)\n",
    "df.temp = (100 * ((df.temp - df.temp.min())/ df.temp.max())).astype(int)\n",
    "df.umi = df.umi.astype(int)"
   ]
  },
  {
   "cell_type": "code",
   "execution_count": 141,
   "metadata": {},
   "outputs": [
    {
     "data": {
      "text/html": [
       "<div>\n",
       "<style scoped>\n",
       "    .dataframe tbody tr th:only-of-type {\n",
       "        vertical-align: middle;\n",
       "    }\n",
       "\n",
       "    .dataframe tbody tr th {\n",
       "        vertical-align: top;\n",
       "    }\n",
       "\n",
       "    .dataframe thead th {\n",
       "        text-align: right;\n",
       "    }\n",
       "</style>\n",
       "<table border=\"1\" class=\"dataframe\">\n",
       "  <thead>\n",
       "    <tr style=\"text-align: right;\">\n",
       "      <th></th>\n",
       "      <th>pm10</th>\n",
       "      <th>temp</th>\n",
       "      <th>umi</th>\n",
       "      <th>prec</th>\n",
       "      <th>weekday</th>\n",
       "      <th>mese</th>\n",
       "      <th>no_pioggia</th>\n",
       "    </tr>\n",
       "  </thead>\n",
       "  <tbody>\n",
       "    <tr>\n",
       "      <th>2012-01-13</th>\n",
       "      <td>97</td>\n",
       "      <td>35</td>\n",
       "      <td>78</td>\n",
       "      <td>0</td>\n",
       "      <td>4</td>\n",
       "      <td>1</td>\n",
       "      <td>2</td>\n",
       "    </tr>\n",
       "    <tr>\n",
       "      <th>2012-01-14</th>\n",
       "      <td>92</td>\n",
       "      <td>21</td>\n",
       "      <td>91</td>\n",
       "      <td>0</td>\n",
       "      <td>5</td>\n",
       "      <td>1</td>\n",
       "      <td>0</td>\n",
       "    </tr>\n",
       "    <tr>\n",
       "      <th>2012-01-15</th>\n",
       "      <td>91</td>\n",
       "      <td>12</td>\n",
       "      <td>95</td>\n",
       "      <td>0</td>\n",
       "      <td>6</td>\n",
       "      <td>1</td>\n",
       "      <td>0</td>\n",
       "    </tr>\n",
       "    <tr>\n",
       "      <th>2012-01-16</th>\n",
       "      <td>92</td>\n",
       "      <td>15</td>\n",
       "      <td>88</td>\n",
       "      <td>0</td>\n",
       "      <td>0</td>\n",
       "      <td>1</td>\n",
       "      <td>1</td>\n",
       "    </tr>\n",
       "    <tr>\n",
       "      <th>2012-01-17</th>\n",
       "      <td>101</td>\n",
       "      <td>14</td>\n",
       "      <td>87</td>\n",
       "      <td>0</td>\n",
       "      <td>1</td>\n",
       "      <td>1</td>\n",
       "      <td>2</td>\n",
       "    </tr>\n",
       "  </tbody>\n",
       "</table>\n",
       "</div>"
      ],
      "text/plain": [
       "            pm10  temp  umi  prec  weekday  mese  no_pioggia\n",
       "2012-01-13    97    35   78     0        4     1           2\n",
       "2012-01-14    92    21   91     0        5     1           0\n",
       "2012-01-15    91    12   95     0        6     1           0\n",
       "2012-01-16    92    15   88     0        0     1           1\n",
       "2012-01-17   101    14   87     0        1     1           2"
      ]
     },
     "execution_count": 141,
     "metadata": {},
     "output_type": "execute_result"
    }
   ],
   "source": [
    "df.head()"
   ]
  },
  {
   "cell_type": "markdown",
   "metadata": {},
   "source": [
    "### One hot nei giorni della settimana"
   ]
  },
  {
   "cell_type": "code",
   "execution_count": 142,
   "metadata": {},
   "outputs": [],
   "source": [
    "giorno_one_hot = pd.get_dummies(df.weekday)"
   ]
  },
  {
   "cell_type": "code",
   "execution_count": 143,
   "metadata": {},
   "outputs": [],
   "source": [
    "df = pd.concat([df.drop([\"weekday\"], axis = 1), giorno_one_hot], axis = 1)"
   ]
  },
  {
   "cell_type": "code",
   "execution_count": 144,
   "metadata": {},
   "outputs": [
    {
     "data": {
      "text/html": [
       "<div>\n",
       "<style scoped>\n",
       "    .dataframe tbody tr th:only-of-type {\n",
       "        vertical-align: middle;\n",
       "    }\n",
       "\n",
       "    .dataframe tbody tr th {\n",
       "        vertical-align: top;\n",
       "    }\n",
       "\n",
       "    .dataframe thead th {\n",
       "        text-align: right;\n",
       "    }\n",
       "</style>\n",
       "<table border=\"1\" class=\"dataframe\">\n",
       "  <thead>\n",
       "    <tr style=\"text-align: right;\">\n",
       "      <th></th>\n",
       "      <th>pm10</th>\n",
       "      <th>temp</th>\n",
       "      <th>umi</th>\n",
       "      <th>prec</th>\n",
       "      <th>mese</th>\n",
       "      <th>no_pioggia</th>\n",
       "      <th>0</th>\n",
       "      <th>1</th>\n",
       "      <th>2</th>\n",
       "      <th>3</th>\n",
       "      <th>4</th>\n",
       "      <th>5</th>\n",
       "      <th>6</th>\n",
       "    </tr>\n",
       "  </thead>\n",
       "  <tbody>\n",
       "    <tr>\n",
       "      <th>2012-01-13</th>\n",
       "      <td>97</td>\n",
       "      <td>35</td>\n",
       "      <td>78</td>\n",
       "      <td>0</td>\n",
       "      <td>1</td>\n",
       "      <td>2</td>\n",
       "      <td>0</td>\n",
       "      <td>0</td>\n",
       "      <td>0</td>\n",
       "      <td>0</td>\n",
       "      <td>1</td>\n",
       "      <td>0</td>\n",
       "      <td>0</td>\n",
       "    </tr>\n",
       "    <tr>\n",
       "      <th>2012-01-14</th>\n",
       "      <td>92</td>\n",
       "      <td>21</td>\n",
       "      <td>91</td>\n",
       "      <td>0</td>\n",
       "      <td>1</td>\n",
       "      <td>0</td>\n",
       "      <td>0</td>\n",
       "      <td>0</td>\n",
       "      <td>0</td>\n",
       "      <td>0</td>\n",
       "      <td>0</td>\n",
       "      <td>1</td>\n",
       "      <td>0</td>\n",
       "    </tr>\n",
       "    <tr>\n",
       "      <th>2012-01-15</th>\n",
       "      <td>91</td>\n",
       "      <td>12</td>\n",
       "      <td>95</td>\n",
       "      <td>0</td>\n",
       "      <td>1</td>\n",
       "      <td>0</td>\n",
       "      <td>0</td>\n",
       "      <td>0</td>\n",
       "      <td>0</td>\n",
       "      <td>0</td>\n",
       "      <td>0</td>\n",
       "      <td>0</td>\n",
       "      <td>1</td>\n",
       "    </tr>\n",
       "    <tr>\n",
       "      <th>2012-01-16</th>\n",
       "      <td>92</td>\n",
       "      <td>15</td>\n",
       "      <td>88</td>\n",
       "      <td>0</td>\n",
       "      <td>1</td>\n",
       "      <td>1</td>\n",
       "      <td>1</td>\n",
       "      <td>0</td>\n",
       "      <td>0</td>\n",
       "      <td>0</td>\n",
       "      <td>0</td>\n",
       "      <td>0</td>\n",
       "      <td>0</td>\n",
       "    </tr>\n",
       "    <tr>\n",
       "      <th>2012-01-17</th>\n",
       "      <td>101</td>\n",
       "      <td>14</td>\n",
       "      <td>87</td>\n",
       "      <td>0</td>\n",
       "      <td>1</td>\n",
       "      <td>2</td>\n",
       "      <td>0</td>\n",
       "      <td>1</td>\n",
       "      <td>0</td>\n",
       "      <td>0</td>\n",
       "      <td>0</td>\n",
       "      <td>0</td>\n",
       "      <td>0</td>\n",
       "    </tr>\n",
       "  </tbody>\n",
       "</table>\n",
       "</div>"
      ],
      "text/plain": [
       "            pm10  temp  umi  prec  mese  no_pioggia  0  1  2  3  4  5  6\n",
       "2012-01-13    97    35   78     0     1           2  0  0  0  0  1  0  0\n",
       "2012-01-14    92    21   91     0     1           0  0  0  0  0  0  1  0\n",
       "2012-01-15    91    12   95     0     1           0  0  0  0  0  0  0  1\n",
       "2012-01-16    92    15   88     0     1           1  1  0  0  0  0  0  0\n",
       "2012-01-17   101    14   87     0     1           2  0  1  0  0  0  0  0"
      ]
     },
     "execution_count": 144,
     "metadata": {},
     "output_type": "execute_result"
    }
   ],
   "source": [
    "df.head()"
   ]
  },
  {
   "cell_type": "markdown",
   "metadata": {},
   "source": [
    "## Training"
   ]
  },
  {
   "cell_type": "code",
   "execution_count": 145,
   "metadata": {},
   "outputs": [
    {
     "data": {
      "text/plain": [
       "'Con 2468 campioni.'"
      ]
     },
     "execution_count": 145,
     "metadata": {},
     "output_type": "execute_result"
    }
   ],
   "source": [
    "f\"Con {df.shape[0]} campioni.\""
   ]
  },
  {
   "cell_type": "code",
   "execution_count": 146,
   "metadata": {},
   "outputs": [],
   "source": [
    "n_steps = 250\n",
    "n_inputs = len(df.columns)\n",
    "n_neurons = 100\n",
    "n_outputs = 1"
   ]
  },
  {
   "cell_type": "code",
   "execution_count": 147,
   "metadata": {},
   "outputs": [],
   "source": [
    "validation = df.iloc[-(n_steps + 1):]\n",
    "df = df.iloc[:-(n_steps)]"
   ]
  },
  {
   "cell_type": "code",
   "execution_count": 148,
   "metadata": {},
   "outputs": [],
   "source": [
    "resolution = 1\n",
    "lun = len(df) - n_steps\n",
    "\n",
    "def time_series(t):\n",
    "    array = []\n",
    "    for x in t:\n",
    "        array.append(df.iloc[x].values)\n",
    "    return np.array(array).copy()\n",
    "\n",
    "def next_batch(batch_size, n_steps):\n",
    "    t0 = np.random.randint(lun, size = (batch_size, 1))\n",
    "    Ts = t0 + np.arange(0, n_steps + 1) * resolution\n",
    "    ys = time_series(Ts)\n",
    "    return ys[:, :-1].reshape(-1, n_steps, n_inputs), ys[:, 1:, 0].reshape(-1, n_steps, 1) #, 1"
   ]
  },
  {
   "cell_type": "code",
   "execution_count": 149,
   "metadata": {},
   "outputs": [],
   "source": [
    "X = tf.placeholder(tf.float32, [None, n_steps, n_inputs])\n",
    "y = tf.placeholder(tf.float32, [None, n_steps, n_outputs])\n",
    "\n",
    "cell = [tf.keras.layers.GRUCell(units = n_neurons, activation = \"relu\"),\n",
    "        tf.keras.layers.GRUCell(units = int(n_neurons / 2), activation = \"relu\"),\n",
    "        tf.keras.layers.GRUCell(units = int(n_neurons / 3), activation = \"relu\")\n",
    "       ]\n",
    "layer = tf.keras.layers.RNN(cell, dtype=tf.float32, return_state = False, return_sequences = True)(X)\n",
    "outputs = tf.keras.layers.Dense(1)(layer)\n",
    "outputs = tf.keras.layers.Reshape((-1, n_outputs))(outputs)"
   ]
  },
  {
   "cell_type": "code",
   "execution_count": 150,
   "metadata": {},
   "outputs": [],
   "source": [
    "learning_rate = 0.001\n",
    "\n",
    "loss = tf.reduce_mean(tf.square(outputs - y))\n",
    "optimizer = tf.train.AdamOptimizer(learning_rate = learning_rate)\n",
    "training_op = optimizer.minimize(loss)\n",
    "\n",
    "init = tf.global_variables_initializer()"
   ]
  },
  {
   "cell_type": "code",
   "execution_count": 151,
   "metadata": {},
   "outputs": [],
   "source": [
    "saver = tf.train.Saver()"
   ]
  },
  {
   "cell_type": "markdown",
   "metadata": {},
   "source": [
    "### LSTM si blocca a mse: 1200\n",
    "\n",
    "Problema di vanishing gradient risolto da GRU, perchè? Bho.\n",
    "\n",
    "Il MinMax performa peggio del mse in generale, l'errore massimo risulta perfino essere minore con l'mse,\n",
    "anche se non in modo significativo (27 - 30)\n",
    "\n",
    "Il onehot sui mesi non fa variare il risultato.  -> con profondità 3 il risultato peggiora sensibilmente, il onehot sui mesi è da scartare.\n",
    "\n",
    "Aumentando la profondità con onehot sui giorni della settimana il risultato migliora scendendo con mse di test 19, mse di train va in overfitting a 22.\n",
    "\n",
    "Con batch 50 il numero di iterazioni prima dell'overfitting è sempre 400.\n",
    "\n",
    "Inserendo la variabile weekend True/False la mse converge meglio tra test e train ma sembra esserci maggiore volatilità nel risultato, minore precisione ma in un range di errore meno ampio. -> Cosa è meglio?\n",
    "\n",
    "Risultati notevoli:\n",
    "GRU, weekday onehot, deep 3: neu neu/2 neu/3 no mese onehot: 350: 26.7 - 18.7\n",
    "GRU, weekday onehot, deep 3: \"\" mese giorni_no_pioggia /_pungwo2_nopioggia): 20 - 21.63"
   ]
  },
  {
   "cell_type": "code",
   "execution_count": 152,
   "metadata": {},
   "outputs": [
    {
     "name": "stdout",
     "output_type": "stream",
     "text": [
      "0 \tMSE: 1840.8618 \tMSE test: 812.57214\n",
      "50 \tMSE: 125.36955 \tMSE test: 54.93312\n",
      "100 \tMSE: 48.48735 \tMSE test: 26.06321\n",
      "150 \tMSE: 42.42481 \tMSE test: 21.701519\n",
      "200 \tMSE: 33.53164 \tMSE test: 19.6455\n",
      "250 \tMSE: 31.32635 \tMSE test: 19.500666\n",
      "300 \tMSE: 25.732178 \tMSE test: 19.346922\n",
      "350 \tMSE: 25.22815 \tMSE test: 19.906849\n",
      "400 \tMSE: 23.3789 \tMSE test: 19.99738\n",
      "449 \tMSE: 23.151484 \tMSE test: 22.437193\n"
     ]
    }
   ],
   "source": [
    "n_iterations = 450 #2000 MinMax (best mse assoluto: 20 - 21.63 _pungwo2_nopioggia\")\n",
    "batch_size = 30 #30\n",
    "\n",
    "validation_X = np.array(validation.iloc[-(n_steps + 1):-1].values)\n",
    "validation_Y = np.array(validation.pm10.iloc[-(n_steps):].values)\n",
    "X_validation = validation_X.reshape(1, -1, n_inputs)\n",
    "y_validation = validation_Y.reshape(1, -1, 1)\n",
    "\n",
    "mse_trainset = []\n",
    "mse_validationset = []\n",
    "\n",
    "with tf.Session() as sess:\n",
    "    init.run()\n",
    "    for iteration in range(n_iterations):\n",
    "        X_batch, y_batch = next_batch(batch_size, n_steps)\n",
    "        sess.run(training_op, feed_dict={X: X_batch, y: y_batch})\n",
    "        if iteration % 50 == 0 or iteration == n_iterations - 1:\n",
    "            mse = loss.eval(feed_dict={X: X_batch, y: y_batch})\n",
    "            mse_trainset.append(mse)\n",
    "            mse_validationset.append(loss.eval(feed_dict = {X: X_validation, y: y_validation}))\n",
    "            print(iteration, \"\\tMSE:\", mse, \"\\tMSE test:\", mse_validationset[-1])\n",
    "    \n",
    "    saver.save(sess, \"./modelli/test14\")"
   ]
  },
  {
   "cell_type": "code",
   "execution_count": 153,
   "metadata": {},
   "outputs": [
    {
     "name": "stdout",
     "output_type": "stream",
     "text": [
      "INFO:tensorflow:Restoring parameters from ./modelli/test14\n"
     ]
    }
   ],
   "source": [
    "validation_X = np.array(validation.iloc[-(n_steps + 1):-1].values)\n",
    "validation_Y = np.array(validation.pm10.iloc[-(n_steps):].values)\n",
    "\n",
    "with tf.Session() as sess:\n",
    "    saver.restore(sess, \"./modelli/test14\")\n",
    "\n",
    "    X_new = validation_X.reshape(1, -1, n_inputs)\n",
    "    y_pred = sess.run(outputs, feed_dict={X: X_new})"
   ]
  },
  {
   "cell_type": "code",
   "execution_count": 154,
   "metadata": {},
   "outputs": [
    {
     "data": {
      "image/png": "[encoded data removed]",
      "text/plain": [
       "<Figure size 432x288 with 1 Axes>"
      ]
     },
     "metadata": {},
     "output_type": "display_data"
    }
   ],
   "source": [
    "plt.plot(mse_trainset[1:], \"r\")\n",
    "plt.plot(mse_validationset[1:])\n",
    "plt.show()"
   ]
  },
  {
   "cell_type": "code",
   "execution_count": 155,
   "metadata": {},
   "outputs": [
    {
     "data": {
      "image/png": "[encoded data removed]",
      "text/plain": [
       "<Figure size 432x288 with 1 Axes>"
      ]
     },
     "metadata": {},
     "output_type": "display_data"
    }
   ],
   "source": [
    "plt.plot(y_pred[0], \"r\")\n",
    "plt.plot(validation_Y)\n",
    "plt.show()"
   ]
  },
  {
   "cell_type": "code",
   "execution_count": 156,
   "metadata": {},
   "outputs": [
    {
     "data": {
      "image/png": "[encoded data removed]",
      "text/plain": [
       "<Figure size 432x288 with 1 Axes>"
      ]
     },
     "metadata": {},
     "output_type": "display_data"
    }
   ],
   "source": [
    "plt.plot(y_pred[0][-30:], \"r\")\n",
    "plt.plot(validation_Y[-30:])\n",
    "plt.show()"
   ]
  },
  {
   "cell_type": "code",
   "execution_count": 157,
   "metadata": {},
   "outputs": [
    {
     "data": {
      "text/plain": [
       "'Indice di correlazione di Pearson r: 0.9197066165300832'"
      ]
     },
     "execution_count": 157,
     "metadata": {},
     "output_type": "execute_result"
    }
   ],
   "source": [
    "f\"Indice di correlazione di Pearson r: {measures.pearsonr(y_pred[0].reshape(-1), validation_Y.reshape(-1))[0]}\""
   ]
  },
  {
   "cell_type": "code",
   "execution_count": 158,
   "metadata": {},
   "outputs": [
    {
     "data": {
      "text/plain": [
       "'R-squared: 0.8458602604892136'"
      ]
     },
     "execution_count": 158,
     "metadata": {},
     "output_type": "execute_result"
    }
   ],
   "source": [
    "f\"R-squared: {np.square(measures.pearsonr(y_pred[0].reshape(-1), validation_Y.reshape(-1))[0])}\""
   ]
  },
  {
   "cell_type": "code",
   "execution_count": 159,
   "metadata": {},
   "outputs": [],
   "source": [
    "res = y_pred[0].reshape(-1)"
   ]
  },
  {
   "cell_type": "code",
   "execution_count": 160,
   "metadata": {},
   "outputs": [
    {
     "data": {
      "text/plain": [
       "'p-value massimo: 0.03338107167110659'"
      ]
     },
     "execution_count": 160,
     "metadata": {},
     "output_type": "execute_result"
    }
   ],
   "source": [
    "f\"p-value massimo: {measures.norm.pdf(res, res.mean(), res.std()).max()}\""
   ]
  },
  {
   "cell_type": "code",
   "execution_count": 161,
   "metadata": {},
   "outputs": [
    {
     "data": {
      "text/plain": [
       "SpearmanrResult(correlation=0.8975837241028702, pvalue=3.415499980756197e-90)"
      ]
     },
     "execution_count": 161,
     "metadata": {},
     "output_type": "execute_result"
    }
   ],
   "source": [
    "measures.spearmanr(res, validation_Y)"
   ]
  },
  {
   "cell_type": "code",
   "execution_count": 162,
   "metadata": {},
   "outputs": [
    {
     "data": {
      "text/plain": [
       "Ttest_relResult(statistic=1.6053311225531488, pvalue=0.109688433059208)"
      ]
     },
     "execution_count": 162,
     "metadata": {},
     "output_type": "execute_result"
    }
   ],
   "source": [
    "measures.ttest_rel(res, validation_Y)"
   ]
  },
  {
   "cell_type": "code",
   "execution_count": 163,
   "metadata": {},
   "outputs": [
    {
     "data": {
      "text/plain": [
       "F_onewayResult(statistic=0.20923747705465737, pvalue=0.6475652070417135)"
      ]
     },
     "execution_count": 163,
     "metadata": {},
     "output_type": "execute_result"
    }
   ],
   "source": [
    "measures.f_oneway(res, validation_Y)"
   ]
  },
  {
   "cell_type": "code",
   "execution_count": 164,
   "metadata": {},
   "outputs": [
    {
     "data": {
      "text/plain": [
       "MannwhitneyuResult(statistic=30924.0, pvalue=0.4201435113264951)"
      ]
     },
     "execution_count": 164,
     "metadata": {},
     "output_type": "execute_result"
    }
   ],
   "source": [
    "measures.mannwhitneyu(res, validation_Y)"
   ]
  }
 ],
 "metadata": {
  "kernelspec": {
   "display_name": "ML",
   "language": "python",
   "name": "ml"
  },
  "language_info": {
   "codemirror_mode": {
    "name": "ipython",
    "version": 3
   },
   "file_extension": ".py",
   "mimetype": "text/x-python",
   "name": "python",
   "nbconvert_exporter": "python",
   "pygments_lexer": "ipython3",
   "version": "3.6.8"
  }
 },
 "nbformat": 4,
 "nbformat_minor": 2
}
