{
 "cells": [
  {
   "cell_type": "markdown",
   "metadata": {},
   "source": [
    "# GAN per riconoscimento eventi\n",
    "Riconosce se una sequenza di valori è inusuale"
   ]
  },
  {
   "cell_type": "code",
   "execution_count": 1665,
   "metadata": {},
   "outputs": [],
   "source": [
    "import tensorflow as tf\n",
    "import numpy as np\n",
    "import matplotlib.pyplot as plt\n",
    "import pandas as pd"
   ]
  },
  {
   "cell_type": "code",
   "execution_count": 1666,
   "metadata": {},
   "outputs": [],
   "source": [
    "tf.reset_default_graph()"
   ]
  },
  {
   "cell_type": "code",
   "execution_count": 1667,
   "metadata": {},
   "outputs": [],
   "source": [
    "df_pm = pd.read_json(\"dati_milano/pm10_11_18.json\").reset_index()[\"pm10\"]\n",
    "df_lambrate = pd.read_csv(\"dati_milano/aria_lambrate_2602181_260219/RW_20190227172304_45400_10273_1.csv\", names = [\"data\", \"pm10\"]).iloc[2:][\"pm10\"].reset_index()[\"pm10\"]"
   ]
  },
  {
   "cell_type": "code",
   "execution_count": 1668,
   "metadata": {},
   "outputs": [],
   "source": [
    "df = df_pm.append(df_lambrate).reset_index()[\"pm10\"]"
   ]
  },
  {
   "cell_type": "code",
   "execution_count": 1669,
   "metadata": {},
   "outputs": [],
   "source": [
    "df = df.dropna()"
   ]
  },
  {
   "cell_type": "code",
   "execution_count": 1670,
   "metadata": {},
   "outputs": [
    {
     "data": {
      "text/plain": [
       "0    35\n",
       "1    21\n",
       "2    17\n",
       "3    14\n",
       "4    22\n",
       "Name: pm10, dtype: object"
      ]
     },
     "execution_count": 1670,
     "metadata": {},
     "output_type": "execute_result"
    }
   ],
   "source": [
    "df.head()"
   ]
  },
  {
   "cell_type": "code",
   "execution_count": 1671,
   "metadata": {},
   "outputs": [],
   "source": [
    "n_steps = 30\n",
    "n_inputs = 1\n",
    "n_neurons = 40\n",
    "n_outputs = 1"
   ]
  },
  {
   "cell_type": "code",
   "execution_count": 1672,
   "metadata": {},
   "outputs": [],
   "source": [
    "resolution = 1\n",
    "lun = len(df) - n_steps\n",
    "\n",
    "def time_series(t):\n",
    "    array = []\n",
    "    for x in t:\n",
    "        array.append(df.iloc[x].values)\n",
    "    return np.array(array).copy()\n",
    "\n",
    "def next_batch(batch_size, n_steps):\n",
    "    t0 = np.random.randint(lun, size = (batch_size, 1))\n",
    "    Ts = t0 + np.arange(0, n_steps + 1) * resolution\n",
    "    ys = time_series(Ts)\n",
    "    return ys[:, :-1].reshape(-1, n_steps, n_inputs)"
   ]
  },
  {
   "cell_type": "code",
   "execution_count": 1673,
   "metadata": {},
   "outputs": [],
   "source": [
    "def generator(X, reuse = None):\n",
    "    with tf.variable_scope('gen',reuse = reuse):\n",
    "        cell = [tf.keras.layers.GRUCell(units = n_neurons, activation = \"tanh\"),\n",
    "            tf.keras.layers.GRUCell(units = int(n_neurons / 2), activation = \"tanh\")\n",
    "        ]\n",
    "        layer = tf.keras.layers.RNN(cell, dtype=tf.float32, return_state = False, return_sequences = True)(X)\n",
    "        outputs = tf.keras.layers.Dense(1)(layer)\n",
    "        #outputs = tf.keras.layers.LeakyReLU(alpha=-1)(outputs)\n",
    "        outputs = tf.keras.layers.Reshape((-1, n_outputs))(outputs)\n",
    "\n",
    "    return outputs"
   ]
  },
  {
   "cell_type": "code",
   "execution_count": 1674,
   "metadata": {},
   "outputs": [],
   "source": [
    "def discriminator(X, reuse = None):\n",
    "    with tf.variable_scope('dis', reuse = reuse):\n",
    "        cell = [tf.keras.layers.GRUCell(units = n_neurons, activation = \"relu\"),\n",
    "            tf.keras.layers.GRUCell(units = int(n_neurons / 2), activation = \"relu\")\n",
    "        ]\n",
    "        layer = tf.keras.layers.RNN(cell, dtype=tf.float32, return_state = False, return_sequences = True)(X)\n",
    "        activation_layer = tf.keras.layers.LeakyReLU(alpha=0.1)(layer)\n",
    "        logits = tf.keras.layers.Dense(1)(activation_layer)\n",
    "        output = tf.sigmoid(logits)\n",
    "        \n",
    "    return output,logits"
   ]
  },
  {
   "cell_type": "code",
   "execution_count": 1675,
   "metadata": {},
   "outputs": [],
   "source": [
    "valori_veri = tf.placeholder(tf.float32, [None, n_steps, n_inputs])\n",
    "z = tf.placeholder(tf.float32, [None, n_steps, n_inputs])"
   ]
  },
  {
   "cell_type": "code",
   "execution_count": 1676,
   "metadata": {},
   "outputs": [],
   "source": [
    "G = generator(z, reuse = False)"
   ]
  },
  {
   "cell_type": "code",
   "execution_count": 1677,
   "metadata": {},
   "outputs": [],
   "source": [
    "D_output_reale, D_logits_reale = discriminator(valori_veri)\n",
    "D_output_fake, D_logits_fake = discriminator(G, reuse = True)"
   ]
  },
  {
   "cell_type": "code",
   "execution_count": 1678,
   "metadata": {},
   "outputs": [],
   "source": [
    "def loss_func(logits_in, labels_in):\n",
    "    # return tf.reduce_mean(tf.abs(tf.abs(logits_in) - tf.abs(labels_in)))\n",
    "    # Con logits:\n",
    "    return tf.reduce_mean(tf.nn.sigmoid_cross_entropy_with_logits(logits=logits_in,labels=labels_in))"
   ]
  },
  {
   "cell_type": "code",
   "execution_count": 1679,
   "metadata": {},
   "outputs": [],
   "source": [
    "D_reale_loss = loss_func(D_logits_reale, tf.ones_like(D_logits_reale))\n",
    "D_fake_loss = loss_func(D_logits_fake, tf.zeros_like(D_logits_fake))"
   ]
  },
  {
   "cell_type": "code",
   "execution_count": 1680,
   "metadata": {},
   "outputs": [],
   "source": [
    "D_loss = D_reale_loss + D_fake_loss"
   ]
  },
  {
   "cell_type": "code",
   "execution_count": 1681,
   "metadata": {},
   "outputs": [],
   "source": [
    "G_loss = loss_func(D_output_fake, tf.ones_like(D_logits_fake))"
   ]
  },
  {
   "cell_type": "code",
   "execution_count": 1682,
   "metadata": {},
   "outputs": [],
   "source": [
    "learning_rate = 0.001\n",
    "\n",
    "tvars = tf.trainable_variables()\n",
    "d_vars = [var for var in tvars if 'dis' in var.name]\n",
    "g_vars = [var for var in tvars if 'gen' in var.name]\n",
    "\n",
    "D_trainer = tf.train.AdamOptimizer(learning_rate = learning_rate).minimize(D_loss, var_list = d_vars)\n",
    "G_trainer = tf.train.AdamOptimizer(learning_rate = learning_rate).minimize(G_loss, var_list = g_vars)"
   ]
  },
  {
   "cell_type": "code",
   "execution_count": 1683,
   "metadata": {},
   "outputs": [],
   "source": [
    "init = tf.global_variables_initializer()"
   ]
  },
  {
   "cell_type": "code",
   "execution_count": 1684,
   "metadata": {},
   "outputs": [],
   "source": [
    "batch_size = 30\n",
    "epochs = 100"
   ]
  },
  {
   "cell_type": "code",
   "execution_count": 1685,
   "metadata": {},
   "outputs": [],
   "source": [
    "saver = tf.train.Saver()"
   ]
  },
  {
   "cell_type": "code",
   "execution_count": 1686,
   "metadata": {},
   "outputs": [
    {
     "name": "stdout",
     "output_type": "stream",
     "text": [
      "0 \tAccuracy d_reale: 1.7325516 \tAccuracy d_fake: 0.7065092\n",
      "10 \tAccuracy d_reale: 0.15942675 \tAccuracy d_fake: 0.6798593\n",
      "20 \tAccuracy d_reale: 0.05032011 \tAccuracy d_fake: 0.5568476\n",
      "30 \tAccuracy d_reale: 0.020541344 \tAccuracy d_fake: 0.5535038\n",
      "40 \tAccuracy d_reale: 0.015320388 \tAccuracy d_fake: 0.5881251\n",
      "50 \tAccuracy d_reale: 0.008401039 \tAccuracy d_fake: 0.488408\n",
      "60 \tAccuracy d_reale: 0.0060735247 \tAccuracy d_fake: 0.448823\n",
      "70 \tAccuracy d_reale: 0.0066489186 \tAccuracy d_fake: 0.3160986\n",
      "80 \tAccuracy d_reale: 0.003766067 \tAccuracy d_fake: 0.08939805\n",
      "90 \tAccuracy d_reale: 0.0050383136 \tAccuracy d_fake: 0.055541746\n",
      "100 \tAccuracy d_reale: 0.0040653683 \tAccuracy d_fake: 0.046192992\n",
      "110 \tAccuracy d_reale: 0.0023931144 \tAccuracy d_fake: 0.041253418\n",
      "120 \tAccuracy d_reale: 0.0055936244 \tAccuracy d_fake: 0.037996937\n",
      "130 \tAccuracy d_reale: 0.001870731 \tAccuracy d_fake: 0.035523806\n",
      "140 \tAccuracy d_reale: 0.0041503226 \tAccuracy d_fake: 0.033493176\n",
      "150 \tAccuracy d_reale: 0.0041048722 \tAccuracy d_fake: 0.031776693\n",
      "160 \tAccuracy d_reale: 0.0012309096 \tAccuracy d_fake: 0.030225135\n",
      "170 \tAccuracy d_reale: 0.002064034 \tAccuracy d_fake: 0.028826188\n",
      "180 \tAccuracy d_reale: 0.0022603434 \tAccuracy d_fake: 0.027524278\n",
      "190 \tAccuracy d_reale: 0.001248257 \tAccuracy d_fake: 0.026304388\n",
      "199 \tAccuracy d_reale: 0.0020290746 \tAccuracy d_fake: 0.025270876\n"
     ]
    }
   ],
   "source": [
    "n_iterations = 200\n",
    "\n",
    "with tf.Session() as sess:\n",
    "    init.run()\n",
    "    for iteration in range(n_iterations):\n",
    "        X_batch = next_batch(batch_size, n_steps)\n",
    "        batch_z = np.random.uniform(1, 100, size = (batch_size, n_steps, n_inputs))\n",
    "        sess.run(D_trainer, feed_dict = {valori_veri:X_batch, z:batch_z})\n",
    "        sess.run(G_trainer, feed_dict = {z:batch_z})\n",
    "        if iteration % 10 == 0 or iteration == n_iterations - 1:\n",
    "            errore_D_reale = D_reale_loss.eval(feed_dict = {valori_veri:X_batch, z:batch_z})\n",
    "            errore_D_fake = D_fake_loss.eval(feed_dict = {valori_veri:X_batch, z:batch_z})\n",
    "            print(iteration, \"\\tAccuracy d_reale:\", errore_D_reale, \"\\tAccuracy d_fake:\", errore_D_fake)\n",
    "            \n",
    "    \n",
    "    saver.save(sess, \"./modelli/GAN\")"
   ]
  },
  {
   "cell_type": "code",
   "execution_count": 1687,
   "metadata": {},
   "outputs": [
    {
     "name": "stdout",
     "output_type": "stream",
     "text": [
      "INFO:tensorflow:Restoring parameters from ./modelli/GAN\n"
     ]
    }
   ],
   "source": [
    "with tf.Session() as sess:\n",
    "    saver.restore(sess, \"./modelli/GAN\")\n",
    "    batch_z = np.random.uniform(0, 100, size = (batch_size, n_steps, n_inputs))\n",
    "    res = sess.run(G, feed_dict = {z:batch_z})"
   ]
  },
  {
   "cell_type": "markdown",
   "metadata": {},
   "source": [
    "La sequenza generata dal GAN:"
   ]
  },
  {
   "cell_type": "code",
   "execution_count": 1688,
   "metadata": {},
   "outputs": [
    {
     "data": {
      "text/plain": [
       "[<matplotlib.lines.Line2D at 0x7fb17c929d68>]"
      ]
     },
     "execution_count": 1688,
     "metadata": {},
     "output_type": "execute_result"
    },
    {
     "data": {
      "image/png": "[encoded data removed]",
      "text/plain": [
       "<Figure size 432x288 with 1 Axes>"
      ]
     },
     "metadata": {
      "needs_background": "light"
     },
     "output_type": "display_data"
    }
   ],
   "source": [
    "plt.plot(np.abs(res[-1]))"
   ]
  },
  {
   "cell_type": "markdown",
   "metadata": {},
   "source": [
    "Un esempio di sequenza reale:"
   ]
  },
  {
   "cell_type": "code",
   "execution_count": 1689,
   "metadata": {},
   "outputs": [],
   "source": [
    "random_start = np.random.randint(df.shape[0] - n_steps) \n",
    "test_val = df[random_start:random_start + n_steps].values.reshape(1, n_steps, n_inputs)"
   ]
  },
  {
   "cell_type": "code",
   "execution_count": 1690,
   "metadata": {
    "scrolled": true
   },
   "outputs": [
    {
     "data": {
      "text/plain": [
       "[<matplotlib.lines.Line2D at 0x7fb2c405eef0>]"
      ]
     },
     "execution_count": 1690,
     "metadata": {},
     "output_type": "execute_result"
    },
    {
     "data": {
      "image/png": "[encoded data removed]",
      "text/plain": [
       "<Figure size 432x288 with 1 Axes>"
      ]
     },
     "metadata": {
      "needs_background": "light"
     },
     "output_type": "display_data"
    }
   ],
   "source": [
    "plt.plot(test_val[0, :])"
   ]
  },
  {
   "cell_type": "markdown",
   "metadata": {},
   "source": [
    "## TEST"
   ]
  },
  {
   "cell_type": "code",
   "execution_count": 1691,
   "metadata": {},
   "outputs": [
    {
     "name": "stdout",
     "output_type": "stream",
     "text": [
      "INFO:tensorflow:Restoring parameters from ./modelli/GAN\n"
     ]
    }
   ],
   "source": [
    "with tf.Session() as sess:\n",
    "    saver.restore(sess, \"./modelli/GAN\")\n",
    "    res_test_ok = sess.run(D_output_reale, feed_dict = {valori_veri:test_val})"
   ]
  },
  {
   "cell_type": "markdown",
   "metadata": {},
   "source": [
    "Il discriminator riconosce che è giusta?"
   ]
  },
  {
   "cell_type": "code",
   "execution_count": 1692,
   "metadata": {},
   "outputs": [
    {
     "data": {
      "text/plain": [
       "'Probabilità che sia giusta la giusta: 99.95%'"
      ]
     },
     "execution_count": 1692,
     "metadata": {},
     "output_type": "execute_result"
    }
   ],
   "source": [
    "\"Probabilità che sia giusta la giusta: {:.2%}\".format(res_test_ok.mean())"
   ]
  },
  {
   "cell_type": "markdown",
   "metadata": {},
   "source": [
    "Stesso con una distribuzione casuale ma in un intervallo sensato:"
   ]
  },
  {
   "cell_type": "code",
   "execution_count": 1693,
   "metadata": {},
   "outputs": [
    {
     "name": "stdout",
     "output_type": "stream",
     "text": [
      "INFO:tensorflow:Restoring parameters from ./modelli/GAN\n"
     ]
    }
   ],
   "source": [
    "test_rand = np.random.uniform(10, 100, size = (batch_size, n_steps, n_inputs))\n",
    "\n",
    "with tf.Session() as sess:\n",
    "    saver.restore(sess, \"./modelli/GAN\")\n",
    "    res_test_rand = sess.run(D_output_reale, feed_dict = {valori_veri:test_rand})"
   ]
  },
  {
   "cell_type": "code",
   "execution_count": 1694,
   "metadata": {},
   "outputs": [
    {
     "data": {
      "text/plain": [
       "'Probabilità che sia giusta la sbagliata: 99.90%'"
      ]
     },
     "execution_count": 1694,
     "metadata": {},
     "output_type": "execute_result"
    }
   ],
   "source": [
    "\"Probabilità che sia giusta la sbagliata: {:.2%}\".format(res_test_rand.mean())"
   ]
  }
 ],
 "metadata": {
  "kernelspec": {
   "display_name": "ML",
   "language": "python",
   "name": "ml"
  },
  "language_info": {
   "codemirror_mode": {
    "name": "ipython",
    "version": 3
   },
   "file_extension": ".py",
   "mimetype": "text/x-python",
   "name": "python",
   "nbconvert_exporter": "python",
   "pygments_lexer": "ipython3",
   "version": "3.6.7"
  }
 },
 "nbformat": 4,
 "nbformat_minor": 2
}
