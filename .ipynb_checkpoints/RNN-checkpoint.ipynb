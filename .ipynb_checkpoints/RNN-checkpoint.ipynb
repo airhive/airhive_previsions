{
 "cells": [
  {
   "cell_type": "markdown",
   "metadata": {},
   "source": [
    "# MODELLO PER PM\n",
    "I modelli attuali hanno un mse di 144 in PM2.5 e RMSE 21.9 in PM10 (http://www.ec4macs.eu/content/report/EC4MACS_Publications/MR_Final%20in%20pdf/Chimere_Methodologies_Final.pdf) usano CHIMERE e NINFA\n",
    "\n",
    "Il modello coi sensori diffusi non risente del downwash tra le case, capisce i microfenomeni usando la statistica."
   ]
  },
  {
   "cell_type": "code",
   "execution_count": 200,
   "metadata": {},
   "outputs": [],
   "source": [
    "import datetime\n",
    "import warnings\n",
    "\n",
    "import tensorflow as tf\n",
    "import pandas as pd\n",
    "import numpy as np\n",
    "import matplotlib.pyplot as plt"
   ]
  },
  {
   "cell_type": "code",
   "execution_count": 201,
   "metadata": {},
   "outputs": [],
   "source": [
    "tf.reset_default_graph()"
   ]
  },
  {
   "cell_type": "code",
   "execution_count": 202,
   "metadata": {},
   "outputs": [],
   "source": [
    "# Nasconde i warning errati di pandas ma anche tutti gli altri, attenzione agli aggiornamenti di tensorflow\n",
    "warnings.simplefilter(\"ignore\")"
   ]
  },
  {
   "cell_type": "code",
   "execution_count": 203,
   "metadata": {},
   "outputs": [],
   "source": [
    "df_pm = pd.read_json(\"dati_milano/pm10_11_18.json\")\n",
    "df_temp = pd.read_json(\"dati_milano/temperature_11_18.json\")\n",
    "df_umi = pd.read_json(\"dati_milano/umidita_11_18.json\")\n",
    "df_prec = pd.read_json(\"dati_milano/precipitazioni_11_18.json\")"
   ]
  },
  {
   "cell_type": "code",
   "execution_count": 204,
   "metadata": {},
   "outputs": [],
   "source": [
    "#df = df_pm.shift(1)\n",
    "df = df_pm\n",
    "df[\"temp\"] = df_temp\n",
    "df[\"umi\"] = df_umi\n",
    "df[\"prec\"] = df_prec\n",
    "#df[\"weekend\"] = (df.index.weekday > 4) * 1\n",
    "df[\"weekday\"] = df.index.weekday\n",
    "df[\"mese\"] = df.index.month"
   ]
  },
  {
   "cell_type": "code",
   "execution_count": 205,
   "metadata": {},
   "outputs": [],
   "source": [
    "df = df.dropna()"
   ]
  },
  {
   "cell_type": "code",
   "execution_count": 206,
   "metadata": {},
   "outputs": [
    {
     "data": {
      "text/html": [
       "<div>\n",
       "<style scoped>\n",
       "    .dataframe tbody tr th:only-of-type {\n",
       "        vertical-align: middle;\n",
       "    }\n",
       "\n",
       "    .dataframe tbody tr th {\n",
       "        vertical-align: top;\n",
       "    }\n",
       "\n",
       "    .dataframe thead th {\n",
       "        text-align: right;\n",
       "    }\n",
       "</style>\n",
       "<table border=\"1\" class=\"dataframe\">\n",
       "  <thead>\n",
       "    <tr style=\"text-align: right;\">\n",
       "      <th></th>\n",
       "      <th>pm10</th>\n",
       "      <th>temp</th>\n",
       "      <th>umi</th>\n",
       "      <th>prec</th>\n",
       "      <th>weekday</th>\n",
       "      <th>mese</th>\n",
       "    </tr>\n",
       "  </thead>\n",
       "  <tbody>\n",
       "    <tr>\n",
       "      <th>2012-01-12</th>\n",
       "      <td>106</td>\n",
       "      <td>4.5</td>\n",
       "      <td>77.1</td>\n",
       "      <td>0.0</td>\n",
       "      <td>3</td>\n",
       "      <td>1</td>\n",
       "    </tr>\n",
       "    <tr>\n",
       "      <th>2012-01-13</th>\n",
       "      <td>88</td>\n",
       "      <td>4.9</td>\n",
       "      <td>78.4</td>\n",
       "      <td>0.0</td>\n",
       "      <td>4</td>\n",
       "      <td>1</td>\n",
       "    </tr>\n",
       "    <tr>\n",
       "      <th>2012-01-14</th>\n",
       "      <td>96</td>\n",
       "      <td>0.2</td>\n",
       "      <td>91.6</td>\n",
       "      <td>0.2</td>\n",
       "      <td>5</td>\n",
       "      <td>1</td>\n",
       "    </tr>\n",
       "    <tr>\n",
       "      <th>2012-01-15</th>\n",
       "      <td>87</td>\n",
       "      <td>-2.6</td>\n",
       "      <td>95.1</td>\n",
       "      <td>0.2</td>\n",
       "      <td>6</td>\n",
       "      <td>1</td>\n",
       "    </tr>\n",
       "    <tr>\n",
       "      <th>2012-01-16</th>\n",
       "      <td>97</td>\n",
       "      <td>-1.6</td>\n",
       "      <td>88.7</td>\n",
       "      <td>0.0</td>\n",
       "      <td>0</td>\n",
       "      <td>1</td>\n",
       "    </tr>\n",
       "  </tbody>\n",
       "</table>\n",
       "</div>"
      ],
      "text/plain": [
       "            pm10  temp   umi  prec  weekday  mese\n",
       "2012-01-12   106   4.5  77.1   0.0        3     1\n",
       "2012-01-13    88   4.9  78.4   0.0        4     1\n",
       "2012-01-14    96   0.2  91.6   0.2        5     1\n",
       "2012-01-15    87  -2.6  95.1   0.2        6     1\n",
       "2012-01-16    97  -1.6  88.7   0.0        0     1"
      ]
     },
     "execution_count": 206,
     "metadata": {},
     "output_type": "execute_result"
    }
   ],
   "source": [
    "df.head()"
   ]
  },
  {
   "cell_type": "markdown",
   "metadata": {},
   "source": [
    "## Correlazioni:\n",
    "Le correlazioni rivelano una relazione abbastanza forte tra i pm10 e la temperatura e l'umidità.\n",
    "Sembra inoltre essere più rilevante il **_numero di giorni senza pioggia_** rispetto all'effettivo ammontare della pioggia."
   ]
  },
  {
   "cell_type": "code",
   "execution_count": 207,
   "metadata": {},
   "outputs": [
    {
     "data": {
      "text/html": [
       "<div>\n",
       "<style scoped>\n",
       "    .dataframe tbody tr th:only-of-type {\n",
       "        vertical-align: middle;\n",
       "    }\n",
       "\n",
       "    .dataframe tbody tr th {\n",
       "        vertical-align: top;\n",
       "    }\n",
       "\n",
       "    .dataframe thead th {\n",
       "        text-align: right;\n",
       "    }\n",
       "</style>\n",
       "<table border=\"1\" class=\"dataframe\">\n",
       "  <thead>\n",
       "    <tr style=\"text-align: right;\">\n",
       "      <th></th>\n",
       "      <th>pm10</th>\n",
       "      <th>temp</th>\n",
       "      <th>umi</th>\n",
       "      <th>prec</th>\n",
       "      <th>weekday</th>\n",
       "      <th>mese</th>\n",
       "    </tr>\n",
       "  </thead>\n",
       "  <tbody>\n",
       "    <tr>\n",
       "      <th>pm10</th>\n",
       "      <td>1.000000</td>\n",
       "      <td>-0.561905</td>\n",
       "      <td>0.371262</td>\n",
       "      <td>-0.183460</td>\n",
       "      <td>-0.002510</td>\n",
       "      <td>-0.020510</td>\n",
       "    </tr>\n",
       "    <tr>\n",
       "      <th>temp</th>\n",
       "      <td>-0.561905</td>\n",
       "      <td>1.000000</td>\n",
       "      <td>-0.511789</td>\n",
       "      <td>-0.067390</td>\n",
       "      <td>0.005361</td>\n",
       "      <td>0.205313</td>\n",
       "    </tr>\n",
       "    <tr>\n",
       "      <th>umi</th>\n",
       "      <td>0.371262</td>\n",
       "      <td>-0.511789</td>\n",
       "      <td>1.000000</td>\n",
       "      <td>0.347604</td>\n",
       "      <td>0.026695</td>\n",
       "      <td>0.159614</td>\n",
       "    </tr>\n",
       "    <tr>\n",
       "      <th>prec</th>\n",
       "      <td>-0.183460</td>\n",
       "      <td>-0.067390</td>\n",
       "      <td>0.347604</td>\n",
       "      <td>1.000000</td>\n",
       "      <td>0.027033</td>\n",
       "      <td>-0.004066</td>\n",
       "    </tr>\n",
       "    <tr>\n",
       "      <th>weekday</th>\n",
       "      <td>-0.002510</td>\n",
       "      <td>0.005361</td>\n",
       "      <td>0.026695</td>\n",
       "      <td>0.027033</td>\n",
       "      <td>1.000000</td>\n",
       "      <td>0.000579</td>\n",
       "    </tr>\n",
       "    <tr>\n",
       "      <th>mese</th>\n",
       "      <td>-0.020510</td>\n",
       "      <td>0.205313</td>\n",
       "      <td>0.159614</td>\n",
       "      <td>-0.004066</td>\n",
       "      <td>0.000579</td>\n",
       "      <td>1.000000</td>\n",
       "    </tr>\n",
       "  </tbody>\n",
       "</table>\n",
       "</div>"
      ],
      "text/plain": [
       "             pm10      temp       umi      prec   weekday      mese\n",
       "pm10     1.000000 -0.561905  0.371262 -0.183460 -0.002510 -0.020510\n",
       "temp    -0.561905  1.000000 -0.511789 -0.067390  0.005361  0.205313\n",
       "umi      0.371262 -0.511789  1.000000  0.347604  0.026695  0.159614\n",
       "prec    -0.183460 -0.067390  0.347604  1.000000  0.027033 -0.004066\n",
       "weekday -0.002510  0.005361  0.026695  0.027033  1.000000  0.000579\n",
       "mese    -0.020510  0.205313  0.159614 -0.004066  0.000579  1.000000"
      ]
     },
     "execution_count": 207,
     "metadata": {},
     "output_type": "execute_result"
    }
   ],
   "source": [
    "df.corr()"
   ]
  },
  {
   "cell_type": "code",
   "execution_count": 208,
   "metadata": {},
   "outputs": [
    {
     "data": {
      "image/png": "[encoded data removed]",
      "text/plain": [
       "<Figure size 288x288 with 1 Axes>"
      ]
     },
     "metadata": {
      "needs_background": "light"
     },
     "output_type": "display_data"
    }
   ],
   "source": [
    "plt.matshow(df.corr())\n",
    "plt.show()"
   ]
  },
  {
   "cell_type": "markdown",
   "metadata": {},
   "source": [
    "## Dati ingegnerizzati"
   ]
  },
  {
   "cell_type": "markdown",
   "metadata": {},
   "source": [
    "### Giorni senza pioggia"
   ]
  },
  {
   "cell_type": "code",
   "execution_count": 209,
   "metadata": {},
   "outputs": [],
   "source": [
    "df[\"no_pioggia\"] = df.prec\n",
    "df.no_pioggia.loc[df.no_pioggia != 0] = -1\n",
    "df.no_pioggia.loc[df.no_pioggia == 0] = 1\n",
    "df.no_pioggia.loc[df.no_pioggia == -1] = 0"
   ]
  },
  {
   "cell_type": "code",
   "execution_count": 210,
   "metadata": {},
   "outputs": [],
   "source": [
    "#Sottraggo al vettore con somma cumulata i giorni con valori ripetuti\n",
    "somma = df.no_pioggia.cumsum()\n",
    "correttore = somma.copy()\n",
    "correttore.loc[~somma.duplicated()] = np.nan\n",
    "correttore.iloc[0] = 0\n",
    "correttore = correttore.fillna(method = \"ffill\")\n",
    "df.no_pioggia = (somma - correttore).astype(int)"
   ]
  },
  {
   "cell_type": "code",
   "execution_count": 211,
   "metadata": {},
   "outputs": [
    {
     "data": {
      "text/html": [
       "<div>\n",
       "<style scoped>\n",
       "    .dataframe tbody tr th:only-of-type {\n",
       "        vertical-align: middle;\n",
       "    }\n",
       "\n",
       "    .dataframe tbody tr th {\n",
       "        vertical-align: top;\n",
       "    }\n",
       "\n",
       "    .dataframe thead th {\n",
       "        text-align: right;\n",
       "    }\n",
       "</style>\n",
       "<table border=\"1\" class=\"dataframe\">\n",
       "  <thead>\n",
       "    <tr style=\"text-align: right;\">\n",
       "      <th></th>\n",
       "      <th>pm10</th>\n",
       "      <th>temp</th>\n",
       "      <th>umi</th>\n",
       "      <th>prec</th>\n",
       "      <th>weekday</th>\n",
       "      <th>mese</th>\n",
       "      <th>no_pioggia</th>\n",
       "    </tr>\n",
       "  </thead>\n",
       "  <tbody>\n",
       "    <tr>\n",
       "      <th>2012-01-12</th>\n",
       "      <td>106</td>\n",
       "      <td>4.5</td>\n",
       "      <td>77.1</td>\n",
       "      <td>0.0</td>\n",
       "      <td>3</td>\n",
       "      <td>1</td>\n",
       "      <td>1</td>\n",
       "    </tr>\n",
       "    <tr>\n",
       "      <th>2012-01-13</th>\n",
       "      <td>88</td>\n",
       "      <td>4.9</td>\n",
       "      <td>78.4</td>\n",
       "      <td>0.0</td>\n",
       "      <td>4</td>\n",
       "      <td>1</td>\n",
       "      <td>2</td>\n",
       "    </tr>\n",
       "    <tr>\n",
       "      <th>2012-01-14</th>\n",
       "      <td>96</td>\n",
       "      <td>0.2</td>\n",
       "      <td>91.6</td>\n",
       "      <td>0.2</td>\n",
       "      <td>5</td>\n",
       "      <td>1</td>\n",
       "      <td>0</td>\n",
       "    </tr>\n",
       "    <tr>\n",
       "      <th>2012-01-15</th>\n",
       "      <td>87</td>\n",
       "      <td>-2.6</td>\n",
       "      <td>95.1</td>\n",
       "      <td>0.2</td>\n",
       "      <td>6</td>\n",
       "      <td>1</td>\n",
       "      <td>0</td>\n",
       "    </tr>\n",
       "    <tr>\n",
       "      <th>2012-01-16</th>\n",
       "      <td>97</td>\n",
       "      <td>-1.6</td>\n",
       "      <td>88.7</td>\n",
       "      <td>0.0</td>\n",
       "      <td>0</td>\n",
       "      <td>1</td>\n",
       "      <td>1</td>\n",
       "    </tr>\n",
       "  </tbody>\n",
       "</table>\n",
       "</div>"
      ],
      "text/plain": [
       "            pm10  temp   umi  prec  weekday  mese  no_pioggia\n",
       "2012-01-12   106   4.5  77.1   0.0        3     1           1\n",
       "2012-01-13    88   4.9  78.4   0.0        4     1           2\n",
       "2012-01-14    96   0.2  91.6   0.2        5     1           0\n",
       "2012-01-15    87  -2.6  95.1   0.2        6     1           0\n",
       "2012-01-16    97  -1.6  88.7   0.0        0     1           1"
      ]
     },
     "execution_count": 211,
     "metadata": {},
     "output_type": "execute_result"
    }
   ],
   "source": [
    "df.head()"
   ]
  },
  {
   "cell_type": "code",
   "execution_count": 212,
   "metadata": {},
   "outputs": [
    {
     "data": {
      "text/html": [
       "<div>\n",
       "<style scoped>\n",
       "    .dataframe tbody tr th:only-of-type {\n",
       "        vertical-align: middle;\n",
       "    }\n",
       "\n",
       "    .dataframe tbody tr th {\n",
       "        vertical-align: top;\n",
       "    }\n",
       "\n",
       "    .dataframe thead th {\n",
       "        text-align: right;\n",
       "    }\n",
       "</style>\n",
       "<table border=\"1\" class=\"dataframe\">\n",
       "  <thead>\n",
       "    <tr style=\"text-align: right;\">\n",
       "      <th></th>\n",
       "      <th>pm10</th>\n",
       "      <th>temp</th>\n",
       "      <th>umi</th>\n",
       "      <th>prec</th>\n",
       "      <th>weekday</th>\n",
       "      <th>mese</th>\n",
       "      <th>no_pioggia</th>\n",
       "    </tr>\n",
       "  </thead>\n",
       "  <tbody>\n",
       "    <tr>\n",
       "      <th>pm10</th>\n",
       "      <td>1.000000</td>\n",
       "      <td>-0.561905</td>\n",
       "      <td>0.371262</td>\n",
       "      <td>-0.183460</td>\n",
       "      <td>-0.002510</td>\n",
       "      <td>-0.020510</td>\n",
       "      <td>0.099256</td>\n",
       "    </tr>\n",
       "    <tr>\n",
       "      <th>temp</th>\n",
       "      <td>-0.561905</td>\n",
       "      <td>1.000000</td>\n",
       "      <td>-0.511789</td>\n",
       "      <td>-0.067390</td>\n",
       "      <td>0.005361</td>\n",
       "      <td>0.205313</td>\n",
       "      <td>0.279184</td>\n",
       "    </tr>\n",
       "    <tr>\n",
       "      <th>umi</th>\n",
       "      <td>0.371262</td>\n",
       "      <td>-0.511789</td>\n",
       "      <td>1.000000</td>\n",
       "      <td>0.347604</td>\n",
       "      <td>0.026695</td>\n",
       "      <td>0.159614</td>\n",
       "      <td>-0.428437</td>\n",
       "    </tr>\n",
       "    <tr>\n",
       "      <th>prec</th>\n",
       "      <td>-0.183460</td>\n",
       "      <td>-0.067390</td>\n",
       "      <td>0.347604</td>\n",
       "      <td>1.000000</td>\n",
       "      <td>0.027033</td>\n",
       "      <td>-0.004066</td>\n",
       "      <td>-0.257305</td>\n",
       "    </tr>\n",
       "    <tr>\n",
       "      <th>weekday</th>\n",
       "      <td>-0.002510</td>\n",
       "      <td>0.005361</td>\n",
       "      <td>0.026695</td>\n",
       "      <td>0.027033</td>\n",
       "      <td>1.000000</td>\n",
       "      <td>0.000579</td>\n",
       "      <td>0.011881</td>\n",
       "    </tr>\n",
       "    <tr>\n",
       "      <th>mese</th>\n",
       "      <td>-0.020510</td>\n",
       "      <td>0.205313</td>\n",
       "      <td>0.159614</td>\n",
       "      <td>-0.004066</td>\n",
       "      <td>0.000579</td>\n",
       "      <td>1.000000</td>\n",
       "      <td>-0.046716</td>\n",
       "    </tr>\n",
       "    <tr>\n",
       "      <th>no_pioggia</th>\n",
       "      <td>0.099256</td>\n",
       "      <td>0.279184</td>\n",
       "      <td>-0.428437</td>\n",
       "      <td>-0.257305</td>\n",
       "      <td>0.011881</td>\n",
       "      <td>-0.046716</td>\n",
       "      <td>1.000000</td>\n",
       "    </tr>\n",
       "  </tbody>\n",
       "</table>\n",
       "</div>"
      ],
      "text/plain": [
       "                pm10      temp       umi      prec   weekday      mese  \\\n",
       "pm10        1.000000 -0.561905  0.371262 -0.183460 -0.002510 -0.020510   \n",
       "temp       -0.561905  1.000000 -0.511789 -0.067390  0.005361  0.205313   \n",
       "umi         0.371262 -0.511789  1.000000  0.347604  0.026695  0.159614   \n",
       "prec       -0.183460 -0.067390  0.347604  1.000000  0.027033 -0.004066   \n",
       "weekday    -0.002510  0.005361  0.026695  0.027033  1.000000  0.000579   \n",
       "mese       -0.020510  0.205313  0.159614 -0.004066  0.000579  1.000000   \n",
       "no_pioggia  0.099256  0.279184 -0.428437 -0.257305  0.011881 -0.046716   \n",
       "\n",
       "            no_pioggia  \n",
       "pm10          0.099256  \n",
       "temp          0.279184  \n",
       "umi          -0.428437  \n",
       "prec         -0.257305  \n",
       "weekday       0.011881  \n",
       "mese         -0.046716  \n",
       "no_pioggia    1.000000  "
      ]
     },
     "execution_count": 212,
     "metadata": {},
     "output_type": "execute_result"
    }
   ],
   "source": [
    "df.corr()"
   ]
  },
  {
   "cell_type": "code",
   "execution_count": 213,
   "metadata": {},
   "outputs": [
    {
     "data": {
      "image/png": "[encoded data removed]",
      "text/plain": [
       "<Figure size 288x288 with 1 Axes>"
      ]
     },
     "metadata": {
      "needs_background": "light"
     },
     "output_type": "display_data"
    }
   ],
   "source": [
    "plt.matshow(df.corr())\n",
    "plt.show()"
   ]
  },
  {
   "cell_type": "markdown",
   "metadata": {},
   "source": [
    "## Studio valori notevoli"
   ]
  },
  {
   "cell_type": "code",
   "execution_count": 214,
   "metadata": {},
   "outputs": [
    {
     "data": {
      "text/plain": [
       "'Massimo PM10: 171 il 2017-01-31 00:00:00'"
      ]
     },
     "execution_count": 214,
     "metadata": {},
     "output_type": "execute_result"
    }
   ],
   "source": [
    "f\"Massimo PM10: {df.pm10.max()} il {df.pm10.idxmax()}\""
   ]
  },
  {
   "cell_type": "code",
   "execution_count": 215,
   "metadata": {},
   "outputs": [
    {
     "data": {
      "text/plain": [
       "<matplotlib.axes._subplots.AxesSubplot at 0x7f3d73649400>"
      ]
     },
     "execution_count": 215,
     "metadata": {},
     "output_type": "execute_result"
    },
    {
     "data": {
      "image/png": "[encoded data removed]",
      "text/plain": [
       "<Figure size 432x288 with 1 Axes>"
      ]
     },
     "metadata": {
      "needs_background": "light"
     },
     "output_type": "display_data"
    }
   ],
   "source": [
    "df.loc[\n",
    "    df.pm10.idxmax() - datetime.timedelta(days=10) : df.pm10.idxmax() + datetime.timedelta(days=10)\n",
    "].drop([\"weekday\", \"mese\"], axis = 1).plot()"
   ]
  },
  {
   "cell_type": "code",
   "execution_count": 216,
   "metadata": {},
   "outputs": [
    {
     "data": {
      "text/plain": [
       "'Minimo PM10: 4 il 2012-07-22 00:00:00'"
      ]
     },
     "execution_count": 216,
     "metadata": {},
     "output_type": "execute_result"
    }
   ],
   "source": [
    "f\"Minimo PM10: {df.pm10.min()} il {df.pm10.idxmin()}\""
   ]
  },
  {
   "cell_type": "code",
   "execution_count": 217,
   "metadata": {},
   "outputs": [
    {
     "data": {
      "text/plain": [
       "<matplotlib.axes._subplots.AxesSubplot at 0x7f3d73f098d0>"
      ]
     },
     "execution_count": 217,
     "metadata": {},
     "output_type": "execute_result"
    },
    {
     "data": {
      "image/png": "[encoded data removed]",
      "text/plain": [
       "<Figure size 432x288 with 1 Axes>"
      ]
     },
     "metadata": {
      "needs_background": "light"
     },
     "output_type": "display_data"
    }
   ],
   "source": [
    "df.loc[\n",
    "    df.pm10.idxmin() - datetime.timedelta(days=10) : df.pm10.idxmin() + datetime.timedelta(days=10)\n",
    "].drop([\"weekday\", \"mese\"], axis = 1).plot()"
   ]
  },
  {
   "cell_type": "code",
   "execution_count": 218,
   "metadata": {},
   "outputs": [
    {
     "data": {
      "text/plain": [
       "'Il periodo più lungo senza pioggia è finito il 2015-07-24 00:00:00, 31 giorni'"
      ]
     },
     "execution_count": 218,
     "metadata": {},
     "output_type": "execute_result"
    }
   ],
   "source": [
    "f\"Il periodo più lungo senza pioggia è finito il {df.no_pioggia.idxmax()}, {df.no_pioggia.max()} giorni\""
   ]
  },
  {
   "cell_type": "code",
   "execution_count": 219,
   "metadata": {},
   "outputs": [
    {
     "data": {
      "text/plain": [
       "<matplotlib.axes._subplots.AxesSubplot at 0x7f3d740eb0f0>"
      ]
     },
     "execution_count": 219,
     "metadata": {},
     "output_type": "execute_result"
    },
    {
     "data": {
      "image/png": "[encoded data removed]",
      "text/plain": [
       "<Figure size 432x288 with 1 Axes>"
      ]
     },
     "metadata": {
      "needs_background": "light"
     },
     "output_type": "display_data"
    }
   ],
   "source": [
    "df.loc[\n",
    "    df.no_pioggia.idxmax() - datetime.timedelta(days=10) : df.no_pioggia.idxmax() + datetime.timedelta(days=10)\n",
    "].drop([\"weekday\", \"mese\"], axis = 1).plot()"
   ]
  },
  {
   "cell_type": "markdown",
   "metadata": {},
   "source": [
    "## Normalizzazioni"
   ]
  },
  {
   "cell_type": "markdown",
   "metadata": {},
   "source": [
    "### Media mobile a mov_av giorni\n",
    "Il modello è meno volatile senza intaccare i test, il risultato sarà meno preciso nella predizione del valore esatto ma prevederà meglio il trend."
   ]
  },
  {
   "cell_type": "code",
   "execution_count": 220,
   "metadata": {},
   "outputs": [],
   "source": [
    "#Pandas risponde con un warning sbagliato ATTENZIONE\n",
    "mov_av = 2\n",
    "df[\"pm10\"] = df[\"pm10\"].rolling(mov_av).mean()\n",
    "df = df.iloc[mov_av - 1:]\n",
    "df[\"pm10\"] = df[\"pm10\"].astype(int)"
   ]
  },
  {
   "cell_type": "code",
   "execution_count": 221,
   "metadata": {},
   "outputs": [
    {
     "data": {
      "text/plain": [
       "119.8"
      ]
     },
     "execution_count": 221,
     "metadata": {},
     "output_type": "execute_result"
    }
   ],
   "source": [
    "df.prec.max()"
   ]
  },
  {
   "cell_type": "code",
   "execution_count": 222,
   "metadata": {},
   "outputs": [
    {
     "data": {
      "text/plain": [
       "-6.6"
      ]
     },
     "execution_count": 222,
     "metadata": {},
     "output_type": "execute_result"
    }
   ],
   "source": [
    "df.temp.min()"
   ]
  },
  {
   "cell_type": "code",
   "execution_count": 223,
   "metadata": {},
   "outputs": [
    {
     "data": {
      "text/plain": [
       "32.1"
      ]
     },
     "execution_count": 223,
     "metadata": {},
     "output_type": "execute_result"
    }
   ],
   "source": [
    "df.temp.max()"
   ]
  },
  {
   "cell_type": "markdown",
   "metadata": {},
   "source": [
    "### Normalizzo tra 0 e 100:\n",
    "Ma solo precipitazioni, temperatura e umidità. I PM sono circa già nel range."
   ]
  },
  {
   "cell_type": "code",
   "execution_count": 224,
   "metadata": {},
   "outputs": [],
   "source": [
    "df.prec = (100 * (df.prec / df.prec.max())).astype(int)\n",
    "df.temp = (100 * ((df.temp - df.temp.min())/ df.temp.max())).astype(int)\n",
    "df.umi = df.umi.astype(int)"
   ]
  },
  {
   "cell_type": "code",
   "execution_count": 225,
   "metadata": {},
   "outputs": [
    {
     "data": {
      "text/html": [
       "<div>\n",
       "<style scoped>\n",
       "    .dataframe tbody tr th:only-of-type {\n",
       "        vertical-align: middle;\n",
       "    }\n",
       "\n",
       "    .dataframe tbody tr th {\n",
       "        vertical-align: top;\n",
       "    }\n",
       "\n",
       "    .dataframe thead th {\n",
       "        text-align: right;\n",
       "    }\n",
       "</style>\n",
       "<table border=\"1\" class=\"dataframe\">\n",
       "  <thead>\n",
       "    <tr style=\"text-align: right;\">\n",
       "      <th></th>\n",
       "      <th>pm10</th>\n",
       "      <th>temp</th>\n",
       "      <th>umi</th>\n",
       "      <th>prec</th>\n",
       "      <th>weekday</th>\n",
       "      <th>mese</th>\n",
       "      <th>no_pioggia</th>\n",
       "    </tr>\n",
       "  </thead>\n",
       "  <tbody>\n",
       "    <tr>\n",
       "      <th>2012-01-13</th>\n",
       "      <td>97</td>\n",
       "      <td>35</td>\n",
       "      <td>78</td>\n",
       "      <td>0</td>\n",
       "      <td>4</td>\n",
       "      <td>1</td>\n",
       "      <td>2</td>\n",
       "    </tr>\n",
       "    <tr>\n",
       "      <th>2012-01-14</th>\n",
       "      <td>92</td>\n",
       "      <td>21</td>\n",
       "      <td>91</td>\n",
       "      <td>0</td>\n",
       "      <td>5</td>\n",
       "      <td>1</td>\n",
       "      <td>0</td>\n",
       "    </tr>\n",
       "    <tr>\n",
       "      <th>2012-01-15</th>\n",
       "      <td>91</td>\n",
       "      <td>12</td>\n",
       "      <td>95</td>\n",
       "      <td>0</td>\n",
       "      <td>6</td>\n",
       "      <td>1</td>\n",
       "      <td>0</td>\n",
       "    </tr>\n",
       "    <tr>\n",
       "      <th>2012-01-16</th>\n",
       "      <td>92</td>\n",
       "      <td>15</td>\n",
       "      <td>88</td>\n",
       "      <td>0</td>\n",
       "      <td>0</td>\n",
       "      <td>1</td>\n",
       "      <td>1</td>\n",
       "    </tr>\n",
       "    <tr>\n",
       "      <th>2012-01-17</th>\n",
       "      <td>101</td>\n",
       "      <td>14</td>\n",
       "      <td>87</td>\n",
       "      <td>0</td>\n",
       "      <td>1</td>\n",
       "      <td>1</td>\n",
       "      <td>2</td>\n",
       "    </tr>\n",
       "  </tbody>\n",
       "</table>\n",
       "</div>"
      ],
      "text/plain": [
       "            pm10  temp  umi  prec  weekday  mese  no_pioggia\n",
       "2012-01-13    97    35   78     0        4     1           2\n",
       "2012-01-14    92    21   91     0        5     1           0\n",
       "2012-01-15    91    12   95     0        6     1           0\n",
       "2012-01-16    92    15   88     0        0     1           1\n",
       "2012-01-17   101    14   87     0        1     1           2"
      ]
     },
     "execution_count": 225,
     "metadata": {},
     "output_type": "execute_result"
    }
   ],
   "source": [
    "df.head()"
   ]
  },
  {
   "cell_type": "markdown",
   "metadata": {},
   "source": [
    "### One hot nei giorni della settimana"
   ]
  },
  {
   "cell_type": "code",
   "execution_count": 226,
   "metadata": {},
   "outputs": [],
   "source": [
    "giorno_one_hot = pd.get_dummies(df.weekday)"
   ]
  },
  {
   "cell_type": "code",
   "execution_count": 53,
   "metadata": {},
   "outputs": [],
   "source": [
    "df = pd.concat([df.drop([\"weekday\"], axis = 1), giorno_one_hot], axis = 1)"
   ]
  },
  {
   "cell_type": "code",
   "execution_count": 54,
   "metadata": {},
   "outputs": [
    {
     "data": {
      "text/html": [
       "<div>\n",
       "<style scoped>\n",
       "    .dataframe tbody tr th:only-of-type {\n",
       "        vertical-align: middle;\n",
       "    }\n",
       "\n",
       "    .dataframe tbody tr th {\n",
       "        vertical-align: top;\n",
       "    }\n",
       "\n",
       "    .dataframe thead th {\n",
       "        text-align: right;\n",
       "    }\n",
       "</style>\n",
       "<table border=\"1\" class=\"dataframe\">\n",
       "  <thead>\n",
       "    <tr style=\"text-align: right;\">\n",
       "      <th></th>\n",
       "      <th>pm10</th>\n",
       "      <th>temp</th>\n",
       "      <th>umi</th>\n",
       "      <th>prec</th>\n",
       "      <th>mese</th>\n",
       "      <th>no_pioggia</th>\n",
       "      <th>0</th>\n",
       "      <th>1</th>\n",
       "      <th>2</th>\n",
       "      <th>3</th>\n",
       "      <th>4</th>\n",
       "      <th>5</th>\n",
       "      <th>6</th>\n",
       "    </tr>\n",
       "  </thead>\n",
       "  <tbody>\n",
       "    <tr>\n",
       "      <th>2012-01-13</th>\n",
       "      <td>97</td>\n",
       "      <td>35</td>\n",
       "      <td>78</td>\n",
       "      <td>0</td>\n",
       "      <td>1</td>\n",
       "      <td>1</td>\n",
       "      <td>0</td>\n",
       "      <td>0</td>\n",
       "      <td>0</td>\n",
       "      <td>0</td>\n",
       "      <td>1</td>\n",
       "      <td>0</td>\n",
       "      <td>0</td>\n",
       "    </tr>\n",
       "    <tr>\n",
       "      <th>2012-01-14</th>\n",
       "      <td>92</td>\n",
       "      <td>21</td>\n",
       "      <td>91</td>\n",
       "      <td>0</td>\n",
       "      <td>1</td>\n",
       "      <td>2</td>\n",
       "      <td>0</td>\n",
       "      <td>0</td>\n",
       "      <td>0</td>\n",
       "      <td>0</td>\n",
       "      <td>0</td>\n",
       "      <td>1</td>\n",
       "      <td>0</td>\n",
       "    </tr>\n",
       "    <tr>\n",
       "      <th>2012-01-15</th>\n",
       "      <td>91</td>\n",
       "      <td>12</td>\n",
       "      <td>95</td>\n",
       "      <td>0</td>\n",
       "      <td>1</td>\n",
       "      <td>3</td>\n",
       "      <td>0</td>\n",
       "      <td>0</td>\n",
       "      <td>0</td>\n",
       "      <td>0</td>\n",
       "      <td>0</td>\n",
       "      <td>0</td>\n",
       "      <td>1</td>\n",
       "    </tr>\n",
       "    <tr>\n",
       "      <th>2012-01-16</th>\n",
       "      <td>92</td>\n",
       "      <td>15</td>\n",
       "      <td>88</td>\n",
       "      <td>0</td>\n",
       "      <td>1</td>\n",
       "      <td>4</td>\n",
       "      <td>1</td>\n",
       "      <td>0</td>\n",
       "      <td>0</td>\n",
       "      <td>0</td>\n",
       "      <td>0</td>\n",
       "      <td>0</td>\n",
       "      <td>0</td>\n",
       "    </tr>\n",
       "    <tr>\n",
       "      <th>2012-01-17</th>\n",
       "      <td>101</td>\n",
       "      <td>14</td>\n",
       "      <td>87</td>\n",
       "      <td>0</td>\n",
       "      <td>1</td>\n",
       "      <td>5</td>\n",
       "      <td>0</td>\n",
       "      <td>1</td>\n",
       "      <td>0</td>\n",
       "      <td>0</td>\n",
       "      <td>0</td>\n",
       "      <td>0</td>\n",
       "      <td>0</td>\n",
       "    </tr>\n",
       "  </tbody>\n",
       "</table>\n",
       "</div>"
      ],
      "text/plain": [
       "            pm10  temp  umi  prec  mese  no_pioggia  0  1  2  3  4  5  6\n",
       "2012-01-13    97    35   78     0     1           1  0  0  0  0  1  0  0\n",
       "2012-01-14    92    21   91     0     1           2  0  0  0  0  0  1  0\n",
       "2012-01-15    91    12   95     0     1           3  0  0  0  0  0  0  1\n",
       "2012-01-16    92    15   88     0     1           4  1  0  0  0  0  0  0\n",
       "2012-01-17   101    14   87     0     1           5  0  1  0  0  0  0  0"
      ]
     },
     "execution_count": 54,
     "metadata": {},
     "output_type": "execute_result"
    }
   ],
   "source": [
    "df.head()"
   ]
  },
  {
   "cell_type": "code",
   "execution_count": 163,
   "metadata": {},
   "outputs": [],
   "source": [
    "n_steps = 250\n",
    "n_inputs = len(df.columns)\n",
    "n_neurons = 100\n",
    "n_outputs = 1"
   ]
  },
  {
   "cell_type": "code",
   "execution_count": 164,
   "metadata": {},
   "outputs": [],
   "source": [
    "validation = df.iloc[-(n_steps + 1):]\n",
    "df = df.iloc[:-(n_steps)]"
   ]
  },
  {
   "cell_type": "code",
   "execution_count": 165,
   "metadata": {},
   "outputs": [],
   "source": [
    "resolution = 1\n",
    "lun = len(df) - n_steps\n",
    "\n",
    "def time_series(t):\n",
    "    array = []\n",
    "    for x in t:\n",
    "        array.append(df.iloc[x].values)\n",
    "    return np.array(array).copy()\n",
    "\n",
    "def next_batch(batch_size, n_steps):\n",
    "    t0 = np.random.randint(lun, size = (batch_size, 1))\n",
    "    Ts = t0 + np.arange(0, n_steps + 1) * resolution\n",
    "    ys = time_series(Ts)\n",
    "    return ys[:, :-1].reshape(-1, n_steps, n_inputs), ys[:, 1:, 0].reshape(-1, n_steps, 1) #, 1"
   ]
  },
  {
   "cell_type": "code",
   "execution_count": 166,
   "metadata": {},
   "outputs": [],
   "source": [
    "X = tf.placeholder(tf.float32, [None, n_steps, n_inputs])\n",
    "y = tf.placeholder(tf.float32, [None, n_steps, n_outputs])\n",
    "\n",
    "cell = [tf.keras.layers.GRUCell(units = n_neurons, activation = \"relu\"),\n",
    "        tf.keras.layers.GRUCell(units = int(n_neurons / 2), activation = \"relu\"),\n",
    "        tf.keras.layers.GRUCell(units = int(n_neurons / 3), activation = \"relu\")\n",
    "       ]\n",
    "layer = tf.keras.layers.RNN(cell, dtype=tf.float32, return_state = False, return_sequences = True)(X)\n",
    "outputs = tf.keras.layers.Dense(1)(layer)\n",
    "outputs = tf.keras.layers.Reshape((-1, n_outputs))(outputs)"
   ]
  },
  {
   "cell_type": "code",
   "execution_count": 167,
   "metadata": {},
   "outputs": [],
   "source": [
    "learning_rate = 0.001\n",
    "\n",
    "loss = tf.reduce_mean(tf.square(outputs - y))\n",
    "optimizer = tf.train.AdamOptimizer(learning_rate = learning_rate)\n",
    "training_op = optimizer.minimize(loss)\n",
    "\n",
    "init = tf.global_variables_initializer()"
   ]
  },
  {
   "cell_type": "code",
   "execution_count": 168,
   "metadata": {},
   "outputs": [],
   "source": [
    "saver = tf.train.Saver()"
   ]
  },
  {
   "cell_type": "markdown",
   "metadata": {},
   "source": [
    "### LSTM si blocca a mse: 1200\n",
    "\n",
    "Problema di vanishing gradient risolto da GRU, perchè? Bho.\n",
    "\n",
    "Il MinMax performa peggio del mse in generale, l'errore massimo risulta perfino essere minore con l'mse,\n",
    "anche se non in modo significativo (27 - 30)\n",
    "\n",
    "Il onehot sui mesi non fa variare il risultato.  -> con profondità 3 il risultato peggiora sensibilmente, il onehot sui mesi è da scartare.\n",
    "\n",
    "Aumentando la profondità con onehot sui giorni della settimana il risultato migliora scendendo con mse di test 19, mse di train va in overfitting a 22.\n",
    "\n",
    "Con batch 50 il numero di iterazioni prima dell'overfitting è sempre 400.\n",
    "\n",
    "Inserendo la variabile weekend True/False la mse converge meglio tra test e train ma sembra esserci maggiore volatilità nel risultato, minore precisione ma in un range di errore meno ampio. -> Cosa è meglio?\n",
    "\n",
    "Risultati notevoli:\n",
    "GRU, weekday onehot, deep 3: neu neu/2 neu/3 no mese onehot: 350: 26.7 - 18.7\n",
    "GRU, weekday onehot, deep 3: \"\" mese giorni_no_pioggia /_pungwo2_nopioggia): 20 - 21.63"
   ]
  },
  {
   "cell_type": "code",
   "execution_count": 169,
   "metadata": {},
   "outputs": [
    {
     "name": "stdout",
     "output_type": "stream",
     "text": [
      "0 \tMSE: 1937.608 \tMSE test 736.77466\n",
      "50 \tMSE: 93.19342 \tMSE test 54.32963\n",
      "100 \tMSE: 52.182568 \tMSE test 25.99707\n",
      "150 \tMSE: 35.292213 \tMSE test 21.904127\n",
      "200 \tMSE: 42.705875 \tMSE test 21.336348\n",
      "250 \tMSE: 30.97722 \tMSE test 19.010586\n",
      "300 \tMSE: 30.5434 \tMSE test 18.686956\n",
      "349 \tMSE: 25.75423 \tMSE test 19.365072\n"
     ]
    }
   ],
   "source": [
    "n_iterations = 350 #2000 MinMax (best mse assoluto: 20 - 21.63 _pungwo2_nopioggia\")\n",
    "batch_size = 30 #30\n",
    "\n",
    "validation_X = np.array(validation.iloc[-(n_steps + 1):-1].values)\n",
    "validation_Y = np.array(validation.pm10.iloc[-(n_steps):].values)\n",
    "X_validation = validation_X.reshape(1, -1, n_inputs)\n",
    "y_validation = validation_Y.reshape(1, -1, 1)\n",
    "\n",
    "mse_trainset = []\n",
    "mse_validationset = []\n",
    "\n",
    "with tf.Session() as sess:\n",
    "    init.run()\n",
    "    for iteration in range(n_iterations):\n",
    "        X_batch, y_batch = next_batch(batch_size, n_steps)\n",
    "        sess.run(training_op, feed_dict={X: X_batch, y: y_batch})\n",
    "        if iteration % 50 == 0 or iteration == n_iterations - 1:\n",
    "            mse = loss.eval(feed_dict={X: X_batch, y: y_batch})\n",
    "            mse_trainset.append(mse)\n",
    "            mse_validationset.append(loss.eval(feed_dict = {X: X_validation, y: y_validation}))\n",
    "            print(iteration, \"\\tMSE:\", mse, \"\\tMSE test:\", mse_validationset[-1])\n",
    "    \n",
    "    saver.save(sess, \"./modelli/test\")"
   ]
  },
  {
   "cell_type": "code",
   "execution_count": 170,
   "metadata": {},
   "outputs": [
    {
     "name": "stdout",
     "output_type": "stream",
     "text": [
      "INFO:tensorflow:Restoring parameters from ./modelli/test\n"
     ]
    }
   ],
   "source": [
    "validation_X = np.array(validation.iloc[-(n_steps + 1):-1].values)\n",
    "validation_Y = np.array(validation.pm10.iloc[-(n_steps):].values)\n",
    "\n",
    "with tf.Session() as sess:\n",
    "    saver.restore(sess, \"./modelli/test\")\n",
    "\n",
    "    X_new = validation_X.reshape(1, -1, n_inputs)\n",
    "    y_pred = sess.run(outputs, feed_dict={X: X_new})"
   ]
  },
  {
   "cell_type": "code",
   "execution_count": 171,
   "metadata": {},
   "outputs": [
    {
     "data": {
      "image/png": "[encoded data removed]",
      "text/plain": [
       "<Figure size 432x288 with 1 Axes>"
      ]
     },
     "metadata": {
      "needs_background": "light"
     },
     "output_type": "display_data"
    }
   ],
   "source": [
    "plt.plot(mse_trainset[1:], \"r\")\n",
    "plt.plot(mse_validationset[1:])\n",
    "plt.show()"
   ]
  },
  {
   "cell_type": "code",
   "execution_count": 172,
   "metadata": {},
   "outputs": [
    {
     "data": {
      "image/png": "[encoded data removed]",
      "text/plain": [
       "<Figure size 432x288 with 1 Axes>"
      ]
     },
     "metadata": {
      "needs_background": "light"
     },
     "output_type": "display_data"
    }
   ],
   "source": [
    "plt.plot(y_pred[0], \"r\")\n",
    "plt.plot(validation_Y)\n",
    "plt.show()"
   ]
  },
  {
   "cell_type": "code",
   "execution_count": 173,
   "metadata": {},
   "outputs": [
    {
     "data": {
      "image/png": "[encoded data removed]",
      "text/plain": [
       "<Figure size 432x288 with 1 Axes>"
      ]
     },
     "metadata": {
      "needs_background": "light"
     },
     "output_type": "display_data"
    }
   ],
   "source": [
    "plt.plot(y_pred[0][-30:], \"r\")\n",
    "plt.plot(validation_Y[-30:])\n",
    "plt.show()"
   ]
  }
 ],
 "metadata": {
  "kernelspec": {
   "display_name": "ML",
   "language": "python",
   "name": "ml"
  },
  "language_info": {
   "codemirror_mode": {
    "name": "ipython",
    "version": 3
   },
   "file_extension": ".py",
   "mimetype": "text/x-python",
   "name": "python",
   "nbconvert_exporter": "python",
   "pygments_lexer": "ipython3",
   "version": "3.6.7"
  }
 },
 "nbformat": 4,
 "nbformat_minor": 2
}
